{
 "cells": [
  {
   "cell_type": "code",
   "execution_count": 1,
   "id": "f7eb50cc-1a99-49d2-a0af-9e1ec96820bd",
   "metadata": {},
   "outputs": [],
   "source": [
    "%load_ext google.cloud.bigquery "
   ]
  },
  {
   "cell_type": "code",
   "execution_count": 2,
   "id": "cee36900-6c91-458f-b0df-fa64efe6ccd2",
   "metadata": {},
   "outputs": [
    {
     "name": "stdout",
     "output_type": "stream",
     "text": [
      "Collecting google-cloud-bigquery-storage\n",
      "  Downloading google_cloud_bigquery_storage-2.24.0-py2.py3-none-any.whl.metadata (5.6 kB)\n",
      "Requirement already satisfied: google-api-core!=2.0.*,!=2.1.*,!=2.10.*,!=2.2.*,!=2.3.*,!=2.4.*,!=2.5.*,!=2.6.*,!=2.7.*,!=2.8.*,!=2.9.*,<3.0.0dev,>=1.34.0 in /opt/conda/lib/python3.10/site-packages (from google-api-core[grpc]!=2.0.*,!=2.1.*,!=2.10.*,!=2.2.*,!=2.3.*,!=2.4.*,!=2.5.*,!=2.6.*,!=2.7.*,!=2.8.*,!=2.9.*,<3.0.0dev,>=1.34.0->google-cloud-bigquery-storage) (2.11.1)\n",
      "Requirement already satisfied: proto-plus<2.0.0dev,>=1.22.0 in /opt/conda/lib/python3.10/site-packages (from google-cloud-bigquery-storage) (1.23.0)\n",
      "Requirement already satisfied: protobuf!=3.20.0,!=3.20.1,!=4.21.0,!=4.21.1,!=4.21.2,!=4.21.3,!=4.21.4,!=4.21.5,<5.0.0dev,>=3.19.5 in /opt/conda/lib/python3.10/site-packages (from google-cloud-bigquery-storage) (3.20.3)\n",
      "Requirement already satisfied: googleapis-common-protos<2.0.dev0,>=1.56.2 in /opt/conda/lib/python3.10/site-packages (from google-api-core!=2.0.*,!=2.1.*,!=2.10.*,!=2.2.*,!=2.3.*,!=2.4.*,!=2.5.*,!=2.6.*,!=2.7.*,!=2.8.*,!=2.9.*,<3.0.0dev,>=1.34.0->google-api-core[grpc]!=2.0.*,!=2.1.*,!=2.10.*,!=2.2.*,!=2.3.*,!=2.4.*,!=2.5.*,!=2.6.*,!=2.7.*,!=2.8.*,!=2.9.*,<3.0.0dev,>=1.34.0->google-cloud-bigquery-storage) (1.62.0)\n",
      "Requirement already satisfied: google-auth<3.0.dev0,>=2.14.1 in /opt/conda/lib/python3.10/site-packages (from google-api-core!=2.0.*,!=2.1.*,!=2.10.*,!=2.2.*,!=2.3.*,!=2.4.*,!=2.5.*,!=2.6.*,!=2.7.*,!=2.8.*,!=2.9.*,<3.0.0dev,>=1.34.0->google-api-core[grpc]!=2.0.*,!=2.1.*,!=2.10.*,!=2.2.*,!=2.3.*,!=2.4.*,!=2.5.*,!=2.6.*,!=2.7.*,!=2.8.*,!=2.9.*,<3.0.0dev,>=1.34.0->google-cloud-bigquery-storage) (2.26.1)\n",
      "Requirement already satisfied: requests<3.0.0.dev0,>=2.18.0 in /opt/conda/lib/python3.10/site-packages (from google-api-core!=2.0.*,!=2.1.*,!=2.10.*,!=2.2.*,!=2.3.*,!=2.4.*,!=2.5.*,!=2.6.*,!=2.7.*,!=2.8.*,!=2.9.*,<3.0.0dev,>=1.34.0->google-api-core[grpc]!=2.0.*,!=2.1.*,!=2.10.*,!=2.2.*,!=2.3.*,!=2.4.*,!=2.5.*,!=2.6.*,!=2.7.*,!=2.8.*,!=2.9.*,<3.0.0dev,>=1.34.0->google-cloud-bigquery-storage) (2.31.0)\n",
      "Requirement already satisfied: grpcio<2.0dev,>=1.33.2 in /opt/conda/lib/python3.10/site-packages (from google-api-core[grpc]!=2.0.*,!=2.1.*,!=2.10.*,!=2.2.*,!=2.3.*,!=2.4.*,!=2.5.*,!=2.6.*,!=2.7.*,!=2.8.*,!=2.9.*,<3.0.0dev,>=1.34.0->google-cloud-bigquery-storage) (1.60.0)\n",
      "Requirement already satisfied: grpcio-status<2.0.dev0,>=1.33.2 in /opt/conda/lib/python3.10/site-packages (from google-api-core[grpc]!=2.0.*,!=2.1.*,!=2.10.*,!=2.2.*,!=2.3.*,!=2.4.*,!=2.5.*,!=2.6.*,!=2.7.*,!=2.8.*,!=2.9.*,<3.0.0dev,>=1.34.0->google-cloud-bigquery-storage) (1.48.1)\n",
      "Requirement already satisfied: cachetools<6.0,>=2.0.0 in /opt/conda/lib/python3.10/site-packages (from google-auth<3.0.dev0,>=2.14.1->google-api-core!=2.0.*,!=2.1.*,!=2.10.*,!=2.2.*,!=2.3.*,!=2.4.*,!=2.5.*,!=2.6.*,!=2.7.*,!=2.8.*,!=2.9.*,<3.0.0dev,>=1.34.0->google-api-core[grpc]!=2.0.*,!=2.1.*,!=2.10.*,!=2.2.*,!=2.3.*,!=2.4.*,!=2.5.*,!=2.6.*,!=2.7.*,!=2.8.*,!=2.9.*,<3.0.0dev,>=1.34.0->google-cloud-bigquery-storage) (4.2.4)\n",
      "Requirement already satisfied: pyasn1-modules>=0.2.1 in /opt/conda/lib/python3.10/site-packages (from google-auth<3.0.dev0,>=2.14.1->google-api-core!=2.0.*,!=2.1.*,!=2.10.*,!=2.2.*,!=2.3.*,!=2.4.*,!=2.5.*,!=2.6.*,!=2.7.*,!=2.8.*,!=2.9.*,<3.0.0dev,>=1.34.0->google-api-core[grpc]!=2.0.*,!=2.1.*,!=2.10.*,!=2.2.*,!=2.3.*,!=2.4.*,!=2.5.*,!=2.6.*,!=2.7.*,!=2.8.*,!=2.9.*,<3.0.0dev,>=1.34.0->google-cloud-bigquery-storage) (0.3.0)\n",
      "Requirement already satisfied: rsa<5,>=3.1.4 in /opt/conda/lib/python3.10/site-packages (from google-auth<3.0.dev0,>=2.14.1->google-api-core!=2.0.*,!=2.1.*,!=2.10.*,!=2.2.*,!=2.3.*,!=2.4.*,!=2.5.*,!=2.6.*,!=2.7.*,!=2.8.*,!=2.9.*,<3.0.0dev,>=1.34.0->google-api-core[grpc]!=2.0.*,!=2.1.*,!=2.10.*,!=2.2.*,!=2.3.*,!=2.4.*,!=2.5.*,!=2.6.*,!=2.7.*,!=2.8.*,!=2.9.*,<3.0.0dev,>=1.34.0->google-cloud-bigquery-storage) (4.9)\n",
      "Requirement already satisfied: charset-normalizer<4,>=2 in /opt/conda/lib/python3.10/site-packages (from requests<3.0.0.dev0,>=2.18.0->google-api-core!=2.0.*,!=2.1.*,!=2.10.*,!=2.2.*,!=2.3.*,!=2.4.*,!=2.5.*,!=2.6.*,!=2.7.*,!=2.8.*,!=2.9.*,<3.0.0dev,>=1.34.0->google-api-core[grpc]!=2.0.*,!=2.1.*,!=2.10.*,!=2.2.*,!=2.3.*,!=2.4.*,!=2.5.*,!=2.6.*,!=2.7.*,!=2.8.*,!=2.9.*,<3.0.0dev,>=1.34.0->google-cloud-bigquery-storage) (3.3.2)\n",
      "Requirement already satisfied: idna<4,>=2.5 in /opt/conda/lib/python3.10/site-packages (from requests<3.0.0.dev0,>=2.18.0->google-api-core!=2.0.*,!=2.1.*,!=2.10.*,!=2.2.*,!=2.3.*,!=2.4.*,!=2.5.*,!=2.6.*,!=2.7.*,!=2.8.*,!=2.9.*,<3.0.0dev,>=1.34.0->google-api-core[grpc]!=2.0.*,!=2.1.*,!=2.10.*,!=2.2.*,!=2.3.*,!=2.4.*,!=2.5.*,!=2.6.*,!=2.7.*,!=2.8.*,!=2.9.*,<3.0.0dev,>=1.34.0->google-cloud-bigquery-storage) (3.6)\n",
      "Requirement already satisfied: urllib3<3,>=1.21.1 in /opt/conda/lib/python3.10/site-packages (from requests<3.0.0.dev0,>=2.18.0->google-api-core!=2.0.*,!=2.1.*,!=2.10.*,!=2.2.*,!=2.3.*,!=2.4.*,!=2.5.*,!=2.6.*,!=2.7.*,!=2.8.*,!=2.9.*,<3.0.0dev,>=1.34.0->google-api-core[grpc]!=2.0.*,!=2.1.*,!=2.10.*,!=2.2.*,!=2.3.*,!=2.4.*,!=2.5.*,!=2.6.*,!=2.7.*,!=2.8.*,!=2.9.*,<3.0.0dev,>=1.34.0->google-cloud-bigquery-storage) (1.26.18)\n",
      "Requirement already satisfied: certifi>=2017.4.17 in /opt/conda/lib/python3.10/site-packages (from requests<3.0.0.dev0,>=2.18.0->google-api-core!=2.0.*,!=2.1.*,!=2.10.*,!=2.2.*,!=2.3.*,!=2.4.*,!=2.5.*,!=2.6.*,!=2.7.*,!=2.8.*,!=2.9.*,<3.0.0dev,>=1.34.0->google-api-core[grpc]!=2.0.*,!=2.1.*,!=2.10.*,!=2.2.*,!=2.3.*,!=2.4.*,!=2.5.*,!=2.6.*,!=2.7.*,!=2.8.*,!=2.9.*,<3.0.0dev,>=1.34.0->google-cloud-bigquery-storage) (2024.2.2)\n",
      "Requirement already satisfied: pyasn1<0.6.0,>=0.4.6 in /opt/conda/lib/python3.10/site-packages (from pyasn1-modules>=0.2.1->google-auth<3.0.dev0,>=2.14.1->google-api-core!=2.0.*,!=2.1.*,!=2.10.*,!=2.2.*,!=2.3.*,!=2.4.*,!=2.5.*,!=2.6.*,!=2.7.*,!=2.8.*,!=2.9.*,<3.0.0dev,>=1.34.0->google-api-core[grpc]!=2.0.*,!=2.1.*,!=2.10.*,!=2.2.*,!=2.3.*,!=2.4.*,!=2.5.*,!=2.6.*,!=2.7.*,!=2.8.*,!=2.9.*,<3.0.0dev,>=1.34.0->google-cloud-bigquery-storage) (0.5.1)\n",
      "Downloading google_cloud_bigquery_storage-2.24.0-py2.py3-none-any.whl (190 kB)\n",
      "\u001b[2K   \u001b[90m━━━━━━━━━━━━━━━━━━━━━━━━━━━━━━━━━━━━━━━━\u001b[0m \u001b[32m190.6/190.6 kB\u001b[0m \u001b[31m1.8 MB/s\u001b[0m eta \u001b[36m0:00:00\u001b[0m \u001b[36m0:00:01\u001b[0m\n",
      "\u001b[?25hInstalling collected packages: google-cloud-bigquery-storage\n",
      "Successfully installed google-cloud-bigquery-storage-2.24.0\n"
     ]
    }
   ],
   "source": [
    "!pip install google-cloud-bigquery-storage"
   ]
  },
  {
   "cell_type": "code",
   "execution_count": 3,
   "id": "48a6ef70-55a6-405d-ace2-b5c2abf3fdd4",
   "metadata": {},
   "outputs": [
    {
     "name": "stdout",
     "output_type": "stream",
     "text": [
      "Requirement already satisfied: pyarrow in /opt/conda/lib/python3.10/site-packages (15.0.2)\n",
      "Requirement already satisfied: numpy<2,>=1.16.6 in /opt/conda/lib/python3.10/site-packages (from pyarrow) (1.26.4)\n"
     ]
    }
   ],
   "source": [
    "!pip install pyarrow"
   ]
  },
  {
   "cell_type": "code",
   "execution_count": 58,
   "id": "909b3fbd-023c-4327-b8c8-daea1a130c46",
   "metadata": {},
   "outputs": [
    {
     "name": "stderr",
     "output_type": "stream",
     "text": [
      "Query complete after 0.00s: 100% 2/2 [00:00<00:00, 884.41query/s]                         \n",
      "Downloading: 100% 3/3 [00:00<00:00,  3.27rows/s]\n"
     ]
    },
    {
     "data": {
      "text/html": [
       "<div>\n",
       "<style scoped>\n",
       "    .dataframe tbody tr th:only-of-type {\n",
       "        vertical-align: middle;\n",
       "    }\n",
       "\n",
       "    .dataframe tbody tr th {\n",
       "        vertical-align: top;\n",
       "    }\n",
       "\n",
       "    .dataframe thead th {\n",
       "        text-align: right;\n",
       "    }\n",
       "</style>\n",
       "<table border=\"1\" class=\"dataframe\">\n",
       "  <thead>\n",
       "    <tr style=\"text-align: right;\">\n",
       "      <th></th>\n",
       "      <th>msno</th>\n",
       "      <th>payment_method_id</th>\n",
       "      <th>payment_plan_days</th>\n",
       "      <th>plan_list_price</th>\n",
       "      <th>actual_amount_paid</th>\n",
       "      <th>is_auto_renew</th>\n",
       "      <th>transaction_date</th>\n",
       "      <th>membership_expire_date</th>\n",
       "      <th>is_cancel</th>\n",
       "    </tr>\n",
       "  </thead>\n",
       "  <tbody>\n",
       "    <tr>\n",
       "      <th>0</th>\n",
       "      <td>iFbwtXr/IkqQz2GNqMqg1qbwXbAXWTiFznymvWaXBpY=</td>\n",
       "      <td>1</td>\n",
       "      <td>0</td>\n",
       "      <td>0</td>\n",
       "      <td>0</td>\n",
       "      <td>0</td>\n",
       "      <td>20150917</td>\n",
       "      <td>20150914</td>\n",
       "      <td>1</td>\n",
       "    </tr>\n",
       "    <tr>\n",
       "      <th>1</th>\n",
       "      <td>5QVNR1PHt40G4bxLuPrOrAdDaZo4r5lPHzS1yPivq3M=</td>\n",
       "      <td>2</td>\n",
       "      <td>195</td>\n",
       "      <td>894</td>\n",
       "      <td>894</td>\n",
       "      <td>0</td>\n",
       "      <td>20150127</td>\n",
       "      <td>20150811</td>\n",
       "      <td>0</td>\n",
       "    </tr>\n",
       "    <tr>\n",
       "      <th>2</th>\n",
       "      <td>6ZXfKRTXC84k0LQwZvjQfCVxprHQwG0/aDxwk5WOgEk=</td>\n",
       "      <td>3</td>\n",
       "      <td>195</td>\n",
       "      <td>894</td>\n",
       "      <td>894</td>\n",
       "      <td>0</td>\n",
       "      <td>20150703</td>\n",
       "      <td>20160113</td>\n",
       "      <td>0</td>\n",
       "    </tr>\n",
       "  </tbody>\n",
       "</table>\n",
       "</div>"
      ],
      "text/plain": [
       "                                           msno  payment_method_id  \\\n",
       "0  iFbwtXr/IkqQz2GNqMqg1qbwXbAXWTiFznymvWaXBpY=                  1   \n",
       "1  5QVNR1PHt40G4bxLuPrOrAdDaZo4r5lPHzS1yPivq3M=                  2   \n",
       "2  6ZXfKRTXC84k0LQwZvjQfCVxprHQwG0/aDxwk5WOgEk=                  3   \n",
       "\n",
       "   payment_plan_days  plan_list_price  actual_amount_paid  is_auto_renew  \\\n",
       "0                  0                0                   0              0   \n",
       "1                195              894                 894              0   \n",
       "2                195              894                 894              0   \n",
       "\n",
       "   transaction_date  membership_expire_date  is_cancel  \n",
       "0          20150917                20150914          1  \n",
       "1          20150127                20150811          0  \n",
       "2          20150703                20160113          0  "
      ]
     },
     "execution_count": 58,
     "metadata": {},
     "output_type": "execute_result"
    }
   ],
   "source": [
    "%%bigquery\n",
    "SELECT * \n",
    "FROM certain-arcana-418302.KK_data.ttransactions_v3\n",
    "LIMIT 3"
   ]
  },
  {
   "cell_type": "code",
   "execution_count": 59,
   "id": "f3d1756b-abd5-4ba5-8c47-434b71ca5571",
   "metadata": {},
   "outputs": [
    {
     "name": "stderr",
     "output_type": "stream",
     "text": [
      "Query complete after 0.00s: 100% 2/2 [00:00<00:00, 963.43query/s]                         \n",
      "Downloading: 100% 1/1 [00:01<00:00,  1.24s/rows]\n"
     ]
    },
    {
     "data": {
      "text/html": [
       "<div>\n",
       "<style scoped>\n",
       "    .dataframe tbody tr th:only-of-type {\n",
       "        vertical-align: middle;\n",
       "    }\n",
       "\n",
       "    .dataframe tbody tr th {\n",
       "        vertical-align: top;\n",
       "    }\n",
       "\n",
       "    .dataframe thead th {\n",
       "        text-align: right;\n",
       "    }\n",
       "</style>\n",
       "<table border=\"1\" class=\"dataframe\">\n",
       "  <thead>\n",
       "    <tr style=\"text-align: right;\">\n",
       "      <th></th>\n",
       "      <th>not_null_payment_method_id</th>\n",
       "      <th>not_null_payment_plan_days</th>\n",
       "      <th>not_null_plan_list_price</th>\n",
       "      <th>not_null_actual_amount_paid</th>\n",
       "      <th>not_null_is_auto_renew</th>\n",
       "      <th>not_null_transaction_date</th>\n",
       "      <th>not_null_membership_expire_date</th>\n",
       "      <th>not_null_is_cancel</th>\n",
       "    </tr>\n",
       "  </thead>\n",
       "  <tbody>\n",
       "    <tr>\n",
       "      <th>0</th>\n",
       "      <td>22975416</td>\n",
       "      <td>22975416</td>\n",
       "      <td>22975416</td>\n",
       "      <td>22975416</td>\n",
       "      <td>22975416</td>\n",
       "      <td>22975416</td>\n",
       "      <td>22975416</td>\n",
       "      <td>22975416</td>\n",
       "    </tr>\n",
       "  </tbody>\n",
       "</table>\n",
       "</div>"
      ],
      "text/plain": [
       "   not_null_payment_method_id  not_null_payment_plan_days  \\\n",
       "0                    22975416                    22975416   \n",
       "\n",
       "   not_null_plan_list_price  not_null_actual_amount_paid  \\\n",
       "0                  22975416                     22975416   \n",
       "\n",
       "   not_null_is_auto_renew  not_null_transaction_date  \\\n",
       "0                22975416                   22975416   \n",
       "\n",
       "   not_null_membership_expire_date  not_null_is_cancel  \n",
       "0                         22975416            22975416  "
      ]
     },
     "execution_count": 59,
     "metadata": {},
     "output_type": "execute_result"
    }
   ],
   "source": [
    "%%bigquery\n",
    "SELECT COUNT(payment_method_id) AS not_null_payment_method_id, COUNT(payment_plan_days) AS not_null_payment_plan_days,\n",
    "       COUNT(plan_list_price) AS not_null_plan_list_price, COUNT(actual_amount_paid) AS not_null_actual_amount_paid,\n",
    "       COUNT(is_auto_renew) AS not_null_is_auto_renew, COUNT(transaction_date) AS not_null_transaction_date,\n",
    "       COUNT(membership_expire_date) AS not_null_membership_expire_date, COUNT(is_cancel) AS not_null_is_cancel\n",
    "FROM certain-arcana-418302.KK_data.ttransactions_v3 "
   ]
  },
  {
   "cell_type": "code",
   "execution_count": 4,
   "id": "abdf458d-17be-4049-91ad-f2166d8a8d86",
   "metadata": {},
   "outputs": [],
   "source": [
    "import pandas as pd\n",
    "import numpy as np\n",
    "import matplotlib.pyplot as plt\n",
    "import seaborn as sns\n",
    "import datetime as dt \n",
    "\n",
    "# dt as time_series operation\n",
    "%matplotlib inline\n",
    "\n",
    "# for display dataframe\n",
    "from IPython.display import display\n",
    "from IPython.display import display_html\n",
    "def display_side_by_side(*args):\n",
    "    html_str=''\n",
    "    for df in args:\n",
    "        html_str+=df.to_html()\n",
    "    display_html(html_str.replace('table','table style=\"display:inline\"'),raw=True)\n",
    "\n",
    "# ignore warning\n",
    "import warnings\n",
    "warnings.simplefilter(action='ignore', category=FutureWarning)\n",
    "warnings.simplefilter(action='ignore', category=UserWarning)\n",
    "\n",
    "# ML\n",
    "from sklearn.ensemble import RandomForestClassifier\n",
    "from sklearn.model_selection import train_test_split\n",
    "from sklearn.metrics import log_loss\n",
    "import xgboost as xgb"
   ]
  },
  {
   "cell_type": "markdown",
   "id": "5d1fa30a-d7c4-41e0-ad2d-f32ce32a3588",
   "metadata": {},
   "source": [
    "### 訓練集"
   ]
  },
  {
   "cell_type": "code",
   "execution_count": 5,
   "id": "f7b7c261-38db-4e32-b90a-bc20fea307a9",
   "metadata": {},
   "outputs": [
    {
     "name": "stdout",
     "output_type": "stream",
     "text": [
      "<class 'pandas.core.frame.DataFrame'>\n",
      "RangeIndex: 886500 entries, 0 to 886499\n",
      "Data columns (total 2 columns):\n",
      " #   Column                    Non-Null Count   Dtype  \n",
      "---  ------                    --------------   -----  \n",
      " 0   msno                      886500 non-null  object \n",
      " 1   user_latent_satisfaction  732868 non-null  float64\n",
      "dtypes: float64(1), object(1)\n",
      "memory usage: 13.5+ MB\n"
     ]
    }
   ],
   "source": [
    "from google.cloud import bigquery\n",
    "import pandas as pd\n",
    "\n",
    "# 创建 BigQuery 客户端\n",
    "client = bigquery.Client()\n",
    "\n",
    "# 执行 SQL 查询\n",
    "query = \"\"\"\n",
    "-- user_latent_satisfaction CTE\n",
    "WITH feature AS(\n",
    "                SELECT msno, AVG(single_day_latent_satisfaction) AS user_latent_satisfaction\n",
    "                FROM( \n",
    "                     SELECT msno, ( num_100 / (num_25 + num_50 + num_75 + num_985 + num_100) ) AS single_day_latent_satisfaction\n",
    "                     FROM certain-arcana-418302.KK_data.tuser_logs_v3\n",
    "                     WHERE date > 20160901 AND date < 20170228 )\n",
    "                GROUP BY msno)\n",
    "SELECT train.msno, feature.user_latent_satisfaction\n",
    "FROM certain-arcana-418302.KK_data.tuser_label_201703 AS train\n",
    "LEFT JOIN feature\n",
    "ON  train.msno = feature.msno\n",
    "\"\"\"\n",
    "query_job = client.query(query)\n",
    "\n",
    "# 将结果读取到 Pandas DataFrame 中\n",
    "df = query_job.to_dataframe()\n",
    "\n",
    "# 打印结果\n",
    "df.info()"
   ]
  },
  {
   "cell_type": "code",
   "execution_count": 6,
   "id": "6336e6cf-9f81-43e5-8ca7-471b28e65ba5",
   "metadata": {},
   "outputs": [
    {
     "name": "stdout",
     "output_type": "stream",
     "text": [
      "<class 'pandas.core.frame.DataFrame'>\n",
      "RangeIndex: 886500 entries, 0 to 886499\n",
      "Data columns (total 3 columns):\n",
      " #   Column      Non-Null Count   Dtype  \n",
      "---  ------      --------------   -----  \n",
      " 0   msno        886500 non-null  object \n",
      " 1   is_churn    886500 non-null  object \n",
      " 2   day_listen  732868 non-null  float64\n",
      "dtypes: float64(1), object(2)\n",
      "memory usage: 20.3+ MB\n"
     ]
    }
   ],
   "source": [
    "# 执行 SQL 查询\n",
    "query = \"\"\"\n",
    "-- day_listen CTE\n",
    "WITH features AS (\n",
    "                   SELECT msno AS msno , COUNT(msno) AS day_listen\n",
    "                   FROM certain-arcana-418302.KK_data.tuser_logs_v3 AS train\n",
    "                   WHERE date > 20160901 AND date < 20170228 \n",
    "                   GROUP BY msno)\n",
    "SELECT train.msno, train.is_churn, features.day_listen\n",
    "FROM certain-arcana-418302.KK_data.tuser_label_201703 AS train\n",
    "LEFT JOIN features \n",
    "ON   train.msno = features.msno\n",
    "\"\"\"\n",
    "query_job = client.query(query)\n",
    "\n",
    "# 将结果读取到 Pandas DataFrame 中\n",
    "df1 = query_job.to_dataframe()\n",
    "\n",
    "# 打印结果\n",
    "df1.info()"
   ]
  },
  {
   "cell_type": "code",
   "execution_count": 7,
   "id": "50c9ef34-91be-4be8-afff-ed6e8873a992",
   "metadata": {},
   "outputs": [],
   "source": [
    "df_train = pd.merge(df1, df, how='left',on=['msno'])"
   ]
  },
  {
   "cell_type": "markdown",
   "id": "2643306b-be18-476a-bb70-fae3fd967e4c",
   "metadata": {
    "jp-MarkdownHeadingCollapsed": true
   },
   "source": [
    "### 測試集"
   ]
  },
  {
   "cell_type": "code",
   "execution_count": 8,
   "id": "5e6981bf-91fa-46a1-a464-81c32c1d7d47",
   "metadata": {},
   "outputs": [
    {
     "name": "stdout",
     "output_type": "stream",
     "text": [
      "<class 'pandas.core.frame.DataFrame'>\n",
      "RangeIndex: 907471 entries, 0 to 907470\n",
      "Data columns (total 2 columns):\n",
      " #   Column                    Non-Null Count   Dtype  \n",
      "---  ------                    --------------   -----  \n",
      " 0   msno                      907471 non-null  object \n",
      " 1   user_latent_satisfaction  749999 non-null  float64\n",
      "dtypes: float64(1), object(1)\n",
      "memory usage: 13.8+ MB\n"
     ]
    }
   ],
   "source": [
    "# 执行 SQL 查询\n",
    "query = \"\"\"\n",
    "-- user_latent_satisfaction CTE\n",
    "WITH feature AS(\n",
    "                SELECT msno, AVG(single_day_latent_satisfaction) AS user_latent_satisfaction\n",
    "                FROM( \n",
    "                     SELECT msno, ( num_100 / (num_25 + num_50 + num_75 + num_985 + num_100) ) AS single_day_latent_satisfaction\n",
    "                     FROM certain-arcana-418302.KK_data.tuser_logs_v3\n",
    "                     WHERE date > 20161001 AND date < 20170331)\n",
    "                GROUP BY msno)\n",
    "SELECT sub.msno, feature.user_latent_satisfaction\n",
    "FROM certain-arcana-418302.KK_data.tsample_submission_v2 AS sub\n",
    "LEFT JOIN feature\n",
    "ON  sub.msno = feature.msno\n",
    "\"\"\"\n",
    "query_job = client.query(query)\n",
    "\n",
    "# 将结果读取到 Pandas DataFrame 中\n",
    "dft = query_job.to_dataframe()\n",
    "\n",
    "# 打印结果\n",
    "dft.info()"
   ]
  },
  {
   "cell_type": "code",
   "execution_count": 9,
   "id": "cdec5796-fd72-42b8-87e7-446dc853c117",
   "metadata": {},
   "outputs": [
    {
     "name": "stdout",
     "output_type": "stream",
     "text": [
      "<class 'pandas.core.frame.DataFrame'>\n",
      "RangeIndex: 907471 entries, 0 to 907470\n",
      "Data columns (total 3 columns):\n",
      " #   Column      Non-Null Count   Dtype  \n",
      "---  ------      --------------   -----  \n",
      " 0   msno        907471 non-null  object \n",
      " 1   is_churn    907471 non-null  int64  \n",
      " 2   day_listen  749999 non-null  float64\n",
      "dtypes: float64(1), int64(1), object(1)\n",
      "memory usage: 20.8+ MB\n"
     ]
    }
   ],
   "source": [
    "# 执行 SQL 查询\n",
    "query = \"\"\"\n",
    "-- day_listen CTE\n",
    "WITH features AS (\n",
    "                   SELECT msno AS msno , COUNT(msno) AS day_listen\n",
    "                   FROM certain-arcana-418302.KK_data.tuser_logs_v3\n",
    "                   -- Filter 20160201 , 20170228\n",
    "                   WHERE date > 20161001 AND date < 20170331 \n",
    "                   GROUP BY msno)\n",
    "SELECT sub.msno, sub.is_churn, features.day_listen\n",
    "FROM certain-arcana-418302.KK_data.tsample_submission_v2 AS sub\n",
    "LEFT JOIN features \n",
    "ON   sub.msno = features.msno\n",
    "\"\"\"\n",
    "query_job = client.query(query)\n",
    "\n",
    "# 将结果读取到 Pandas DataFrame 中\n",
    "dft1 = query_job.to_dataframe()\n",
    "\n",
    "# 打印结果\n",
    "dft1.info()"
   ]
  },
  {
   "cell_type": "code",
   "execution_count": 10,
   "id": "e2b63c73-b99c-4192-84ff-ffde68bf368e",
   "metadata": {},
   "outputs": [],
   "source": [
    "df_sub = pd.merge(dft1, dft, how='left',on=['msno'])\n",
    "df_sub.is_churn = np.nan"
   ]
  },
  {
   "cell_type": "markdown",
   "id": "014d6c78-4807-4348-9a36-cddfdc71e273",
   "metadata": {
    "jp-MarkdownHeadingCollapsed": true
   },
   "source": [
    "### tmembers_v3"
   ]
  },
  {
   "cell_type": "code",
   "execution_count": 11,
   "id": "a9b0f232-45d7-43dd-8dca-3d1b2554c811",
   "metadata": {},
   "outputs": [],
   "source": [
    "# combine\n",
    "df_train['is_churn'] = df_train['is_churn'].map({'true': 1, 'false': 0})\n",
    "df_data = pd.concat([df_train, df_sub], axis=0)"
   ]
  },
  {
   "cell_type": "code",
   "execution_count": 13,
   "id": "c791dab5-3af2-42df-980e-a3527999b9bb",
   "metadata": {},
   "outputs": [
    {
     "name": "stderr",
     "output_type": "stream",
     "text": [
      "Query complete after 0.00s: 100% 1/1 [00:00<00:00, 612.66query/s] \n",
      "Downloading: 100% 5/5 [00:00<00:00,  5.79rows/s]\n"
     ]
    },
    {
     "data": {
      "text/html": [
       "<div>\n",
       "<style scoped>\n",
       "    .dataframe tbody tr th:only-of-type {\n",
       "        vertical-align: middle;\n",
       "    }\n",
       "\n",
       "    .dataframe tbody tr th {\n",
       "        vertical-align: top;\n",
       "    }\n",
       "\n",
       "    .dataframe thead th {\n",
       "        text-align: right;\n",
       "    }\n",
       "</style>\n",
       "<table border=\"1\" class=\"dataframe\">\n",
       "  <thead>\n",
       "    <tr style=\"text-align: right;\">\n",
       "      <th></th>\n",
       "      <th>msno</th>\n",
       "      <th>city</th>\n",
       "      <th>bd</th>\n",
       "      <th>gender</th>\n",
       "      <th>registered_via</th>\n",
       "      <th>registration_init_time</th>\n",
       "    </tr>\n",
       "  </thead>\n",
       "  <tbody>\n",
       "    <tr>\n",
       "      <th>0</th>\n",
       "      <td>8LPzfwqAmZBC+5f6va9tf+h4Aza3swsbDx1YqqgcmGI=</td>\n",
       "      <td>14</td>\n",
       "      <td>28</td>\n",
       "      <td>female</td>\n",
       "      <td>3</td>\n",
       "      <td>20120320</td>\n",
       "    </tr>\n",
       "    <tr>\n",
       "      <th>1</th>\n",
       "      <td>ahZDwRrcT0nXWjhNeN30pKs4fQI4EEdQQNUbWvM1BOI=</td>\n",
       "      <td>4</td>\n",
       "      <td>30</td>\n",
       "      <td>female</td>\n",
       "      <td>3</td>\n",
       "      <td>20120320</td>\n",
       "    </tr>\n",
       "    <tr>\n",
       "      <th>2</th>\n",
       "      <td>y3PNyKhMefuNtFVyeRCNpPurjgNfyx4cA1rEstFjS74=</td>\n",
       "      <td>13</td>\n",
       "      <td>23</td>\n",
       "      <td>male</td>\n",
       "      <td>3</td>\n",
       "      <td>20120320</td>\n",
       "    </tr>\n",
       "    <tr>\n",
       "      <th>3</th>\n",
       "      <td>v5K+UvyTGjUOZaUNqiNqEpFEpv6c3GpH/8F6Iw+HVns=</td>\n",
       "      <td>13</td>\n",
       "      <td>31</td>\n",
       "      <td>male</td>\n",
       "      <td>3</td>\n",
       "      <td>20120320</td>\n",
       "    </tr>\n",
       "    <tr>\n",
       "      <th>4</th>\n",
       "      <td>UtZJR3a+BtwEZNwigpkB9sZDcBd3/xoJ890chDRftsU=</td>\n",
       "      <td>1</td>\n",
       "      <td>0</td>\n",
       "      <td></td>\n",
       "      <td>7</td>\n",
       "      <td>20120320</td>\n",
       "    </tr>\n",
       "  </tbody>\n",
       "</table>\n",
       "</div>"
      ],
      "text/plain": [
       "                                           msno  city  bd  gender  \\\n",
       "0  8LPzfwqAmZBC+5f6va9tf+h4Aza3swsbDx1YqqgcmGI=    14  28  female   \n",
       "1  ahZDwRrcT0nXWjhNeN30pKs4fQI4EEdQQNUbWvM1BOI=     4  30  female   \n",
       "2  y3PNyKhMefuNtFVyeRCNpPurjgNfyx4cA1rEstFjS74=    13  23    male   \n",
       "3  v5K+UvyTGjUOZaUNqiNqEpFEpv6c3GpH/8F6Iw+HVns=    13  31    male   \n",
       "4  UtZJR3a+BtwEZNwigpkB9sZDcBd3/xoJ890chDRftsU=     1   0           \n",
       "\n",
       "   registered_via  registration_init_time  \n",
       "0               3                20120320  \n",
       "1               3                20120320  \n",
       "2               3                20120320  \n",
       "3               3                20120320  \n",
       "4               7                20120320  "
      ]
     },
     "execution_count": 13,
     "metadata": {},
     "output_type": "execute_result"
    }
   ],
   "source": [
    "%%bigquery\n",
    "SELECT *\n",
    "FROM certain-arcana-418302.KK_data.tmembers_v3\n",
    "LIMIT 5"
   ]
  },
  {
   "cell_type": "code",
   "execution_count": 12,
   "id": "dda4995a-a4c2-4b74-8575-e791c9c6c11c",
   "metadata": {},
   "outputs": [
    {
     "name": "stdout",
     "output_type": "stream",
     "text": [
      "<class 'pandas.core.frame.DataFrame'>\n",
      "RangeIndex: 6769473 entries, 0 to 6769472\n",
      "Data columns (total 6 columns):\n",
      " #   Column                  Dtype \n",
      "---  ------                  ----- \n",
      " 0   msno                    object\n",
      " 1   city                    int64 \n",
      " 2   bd                      int64 \n",
      " 3   gender                  object\n",
      " 4   registered_via          int64 \n",
      " 5   registration_init_time  int64 \n",
      "dtypes: int64(4), object(2)\n",
      "memory usage: 309.9+ MB\n"
     ]
    }
   ],
   "source": [
    "# 执行 SQL 查询\n",
    "query = \"\"\"\n",
    "SELECT *\n",
    "FROM certain-arcana-418302.KK_data.tmembers_v3\n",
    "\"\"\"\n",
    "query_job = client.query(query)\n",
    "\n",
    "# 将结果读取到 Pandas DataFrame 中\n",
    "dfmem = query_job.to_dataframe()\n",
    "\n",
    "# 打印结果\n",
    "dfmem.info()"
   ]
  },
  {
   "cell_type": "code",
   "execution_count": 13,
   "id": "bd5d5b74-f272-49a1-b045-6cb2b9ad22e9",
   "metadata": {},
   "outputs": [],
   "source": [
    "df_data = pd.merge(df_data, dfmem, how='left',on=['msno'])"
   ]
  },
  {
   "cell_type": "code",
   "execution_count": 14,
   "id": "fa09bb63-6c4a-4fdf-8766-21a2518dd95e",
   "metadata": {},
   "outputs": [
    {
     "name": "stdout",
     "output_type": "stream",
     "text": [
      "---------- missing value summary ----------\n",
      "msno                     0.000\n",
      "is_churn                 0.506\n",
      "six_month_day_listen     0.173\n",
      "six_month_satis          0.173\n",
      "city                     0.123\n",
      "bd                       0.123\n",
      "gender                   0.646\n",
      "registered_via           0.123\n",
      "registration_init_time   0.123\n",
      "dtype: float64\n"
     ]
    }
   ],
   "source": [
    "# Ordinal Encoding\n",
    "gender_encode = {'male':1, 'female':2}\n",
    "df_data.gender = df_data.gender.map(gender_encode)\n",
    "\n",
    "# change feature name\n",
    "df_data = df_data.rename(columns={'day_listen':'six_month_day_listen','user_latent_satisfaction':'six_month_satis'})\n",
    "\n",
    "# missing value \n",
    "print('-'*10,'missing value summary','-'*10)\n",
    "pd.set_option('display.float_format', lambda x: '%.3f' % x)\n",
    "print(df_data.isnull().sum() / len(df_data))"
   ]
  },
  {
   "cell_type": "markdown",
   "id": "cd2950db-3a34-4736-9cf5-9ed3eba45f80",
   "metadata": {
    "jp-MarkdownHeadingCollapsed": true
   },
   "source": [
    "### Registered_via"
   ]
  },
  {
   "cell_type": "code",
   "execution_count": 18,
   "id": "b9dac471-00d9-476f-a72f-bf625bcfa9a4",
   "metadata": {},
   "outputs": [
    {
     "data": {
      "text/plain": [
       "<matplotlib.lines.Line2D at 0x7f2127411ae0>"
      ]
     },
     "execution_count": 18,
     "metadata": {},
     "output_type": "execute_result"
    },
    {
     "data": {
      "image/png": "[encoded data removed]",
      "text/plain": [
       "<Figure size 800x600 with 1 Axes>"
      ]
     },
     "metadata": {},
     "output_type": "display_data"
    }
   ],
   "source": [
    "# aggregate result in order to sort \n",
    "result_reg = df_data.groupby([\"registered_via\"])['is_churn'].mean().reset_index().sort_values('is_churn')\n",
    "# make plot\n",
    "fig, ax = plt.subplots(figsize=(8,6))\n",
    "sns.barplot(x='registered_via',y='is_churn',data=df_data,order=result_reg['registered_via'],ax=ax,alpha=.75)\n",
    "ax.axhline(0.049,linestyle='dashed', c='black',alpha = .3)"
   ]
  },
  {
   "cell_type": "code",
   "execution_count": 35,
   "id": "1faff4bb-b991-44bb-b0a7-18dfe6716c36",
   "metadata": {},
   "outputs": [
    {
     "data": {
      "text/plain": [
       "msno                           0\n",
       "is_churn                  907471\n",
       "six_month_day_listen           0\n",
       "six_month_satis                0\n",
       "city                           0\n",
       "bd                             0\n",
       "gender                         0\n",
       "registered_via                 0\n",
       "registration_init_time         0\n",
       "dtype: int64"
      ]
     },
     "execution_count": 35,
     "metadata": {},
     "output_type": "execute_result"
    }
   ],
   "source": [
    "# Check null data\n",
    "df_data.isna().sum()"
   ]
  },
  {
   "cell_type": "code",
   "execution_count": 15,
   "id": "8a461138-cafd-4c44-a25a-c16007a837bf",
   "metadata": {},
   "outputs": [],
   "source": [
    "columns_to_fill = ['six_month_day_listen', 'six_month_satis', 'city', 'bd', 'gender', 'registered_via', 'registration_init_time']\n",
    "df_data.loc[:, columns_to_fill] = df_data.loc[:, columns_to_fill].fillna(-1)"
   ]
  },
  {
   "cell_type": "code",
   "execution_count": 18,
   "id": "1d0f9719-9a92-4805-8b39-ce12d645b09e",
   "metadata": {},
   "outputs": [
    {
     "data": {
      "text/plain": [
       "<matplotlib.lines.Line2D at 0x7f62c50de890>"
      ]
     },
     "execution_count": 18,
     "metadata": {},
     "output_type": "execute_result"
    },
    {
     "data": {
      "image/png": "[encoded data removed]",
      "text/plain": [
       "<Figure size 800x600 with 1 Axes>"
      ]
     },
     "metadata": {},
     "output_type": "display_data"
    }
   ],
   "source": [
    "# aggregate result in order to sort \n",
    "result_reg = df_data.groupby([\"registered_via\"])['is_churn'].mean().reset_index().sort_values('is_churn')\n",
    "# make plot\n",
    "fig, ax = plt.subplots(figsize=(8,6))\n",
    "sns.barplot(x='registered_via',y='is_churn',data=df_data,order=result_reg['registered_via'],ax=ax,alpha=.75)\n",
    "ax.axhline(0.049,linestyle='dashed', c='black',alpha = .3)"
   ]
  },
  {
   "cell_type": "markdown",
   "id": "5835a09a-70ec-4732-9298-ec224af404d7",
   "metadata": {
    "jp-MarkdownHeadingCollapsed": true
   },
   "source": [
    "### Testing Model: xgb(0.165)"
   ]
  },
  {
   "cell_type": "code",
   "execution_count": 16,
   "id": "13347d35-e289-417a-a510-068a92013f1e",
   "metadata": {},
   "outputs": [],
   "source": [
    "def model_training_rf(training_data,testing_data):\n",
    "  # splits train and validation set\n",
    "  X = training_data.drop(labels=['msno','is_churn'],axis=1)\n",
    "  Y = training_data['is_churn']\n",
    "  X_train, X_val, Y_train, Y_val = train_test_split(X, Y, test_size=0.2,random_state = 2)\n",
    "  # Training ~ 01:45s\n",
    "  model = RandomForestClassifier(random_state=2,n_estimators=300,\n",
    "                           min_samples_split=0.05,n_jobs=-1,class_weight={0 :0.45,1 :0.55})\n",
    "  model.fit(X_train,Y_train)\n",
    "  \n",
    "  # caculating E_val\n",
    "\n",
    "  model_probs = model.predict_proba(X_val)\n",
    "    # [:,1] to show the prob to is_churn = 1\n",
    "  model_val_score = log_loss(Y_val,model_probs[:,1])\n",
    "  \n",
    "  # predict on testing set\n",
    "  model_pred_testing_set = model.predict_proba(testing_data.drop(labels=['msno','is_churn'],axis=1))\n",
    "  model_pred_testing_set = model_pred_testing_set[:,1] # take out the prob if is_churn = 1\n",
    "  submission = pd.DataFrame({\"msno\": testing_data.msno})\n",
    "  submission.insert(1,column='is_churn',value=model_pred_testing_set)\n",
    "  \n",
    "  return model, model_val_score, submission"
   ]
  },
  {
   "cell_type": "code",
   "execution_count": 17,
   "id": "2d1c3061-5b1c-436a-9bfa-5fe7c35aab69",
   "metadata": {},
   "outputs": [],
   "source": [
    "def model_training_xgb(training_data,testing_data):\n",
    "  # splits train and validation set\n",
    "  X = training_data.drop(labels=['msno','is_churn'],axis=1)\n",
    "  Y = training_data['is_churn']\n",
    "  X_train, X_val, Y_train, Y_val = train_test_split(X, Y, test_size=0.2,random_state = 2)\n",
    "  # model\n",
    "  xgb_watchlist = [(X_train, Y_train), (X_val, Y_val)]\n",
    "  model = xgb.XGBClassifier(learning_rate=0.08, max_depth=4,n_estimators=300,\\\n",
    "                 subsample=0.5, seed=2,missing=-1)\n",
    "  model.fit(X_train, Y_train,eval_set=xgb_watchlist,eval_metric='logloss',\n",
    "            early_stopping_rounds=20,verbose=70)\n",
    "  # caculating E_val\n",
    "\n",
    "  model_probs = model.predict_proba(X_val)\n",
    "    # [:,1] to show the prob to is_churn = 1\n",
    "  model_val_score = log_loss(Y_val,model_probs[:,1])\n",
    "  \n",
    "  # predict on testing set\n",
    "  model_pred_testing_set = model.predict_proba(testing_data.drop(labels=['msno','is_churn'],axis=1))\n",
    "  model_pred_testing_set = model_pred_testing_set[:,1] # take out the prob if is_churn = 1\n",
    "  submission = pd.DataFrame({\"msno\": testing_data.msno})\n",
    "  submission.insert(1,column='is_churn',value=model_pred_testing_set)\n",
    "  \n",
    "  return model, model_val_score, submission"
   ]
  },
  {
   "cell_type": "code",
   "execution_count": 18,
   "id": "c43f273c-f7fb-4488-984c-7f0b43cd9b01",
   "metadata": {},
   "outputs": [
    {
     "name": "stdout",
     "output_type": "stream",
     "text": [
      "Index(['msno', 'is_churn', 'six_month_day_listen', 'six_month_satis', 'city',\n",
      "       'bd', 'gender', 'registered_via', 'registration_init_time'],\n",
      "      dtype='object')\n",
      "Index(['msno', 'is_churn', 'six_month_day_listen', 'six_month_satis', 'city',\n",
      "       'bd', 'gender', 'registered_via', 'registration_init_time'],\n",
      "      dtype='object')\n"
     ]
    }
   ],
   "source": [
    "df_train, df_sub = df_data[:len(df_train)], df_data[len(df_train):]\n",
    "print(df_train.columns)\n",
    "print(df_sub.columns)"
   ]
  },
  {
   "cell_type": "code",
   "execution_count": 40,
   "id": "ed7043d3-947a-411a-8acc-58e6c1f1243e",
   "metadata": {},
   "outputs": [
    {
     "data": {
      "text/plain": [
       "msno                      0\n",
       "is_churn                  0\n",
       "six_month_day_listen      0\n",
       "six_month_satis           0\n",
       "city                      0\n",
       "bd                        0\n",
       "gender                    0\n",
       "registered_via            0\n",
       "registration_init_time    0\n",
       "dtype: int64"
      ]
     },
     "execution_count": 40,
     "metadata": {},
     "output_type": "execute_result"
    }
   ],
   "source": [
    "df_train.isna().sum()"
   ]
  },
  {
   "cell_type": "code",
   "execution_count": 19,
   "id": "aefafb6e-045f-43dc-a0fc-0849e35939ec",
   "metadata": {},
   "outputs": [
    {
     "name": "stdout",
     "output_type": "stream",
     "text": [
      "[0]\tvalidation_0-logloss:0.23367\tvalidation_1-logloss:0.23334\n",
      "[70]\tvalidation_0-logloss:0.16502\tvalidation_1-logloss:0.16545\n",
      "[97]\tvalidation_0-logloss:0.16490\tvalidation_1-logloss:0.16545\n",
      "rf_val_score:  0.1686338609642456\n",
      "xgb_val_score:  0.16544124157904952\n"
     ]
    }
   ],
   "source": [
    "reg_via_fts = ['msno','is_churn','six_month_day_listen', 'six_month_satis','registered_via']\n",
    "# reg_via_fts = ['msno','is_churn','six_month_day_listen','registered_via']\n",
    "# training useing rf\n",
    "reg_via_model, reg_via_val_score,\\\n",
    "reg_via_pred = model_training_rf(df_train[reg_via_fts],df_sub[reg_via_fts])\n",
    "# training useing xgboost\n",
    "reg_via_model_xgb, reg_via_val_score_xgb,\\\n",
    "reg_via_pred_xgb = model_training_xgb(df_train[reg_via_fts],df_sub[reg_via_fts])\n",
    "print('rf_val_score: ',reg_via_val_score)\n",
    "print('xgb_val_score: ',reg_via_val_score_xgb)"
   ]
  },
  {
   "cell_type": "markdown",
   "id": "d63737b6-67d8-48a3-831b-a9db236fc107",
   "metadata": {
    "jp-MarkdownHeadingCollapsed": true
   },
   "source": [
    "### Age"
   ]
  },
  {
   "cell_type": "markdown",
   "id": "fe7c6aa3-618f-4f34-9c86-2f232f3090d9",
   "metadata": {},
   "source": [
    "年齡這個特徵在此資料集被稱為bd，筆者認為年齡在此資料集中應該含有一些資訊，例如較年輕的使用者(例如學生)普遍來說還沒有經濟能力，這可能導致他們有較高的流失率，反過來說，有經濟能力的使用者，普遍來說應該會有較低的流失率，先看看這個特徵分布的情況"
   ]
  },
  {
   "cell_type": "code",
   "execution_count": 42,
   "id": "54a8e314-397f-478d-b588-26670c77b7af",
   "metadata": {},
   "outputs": [
    {
     "data": {
      "text/html": [
       "<div>\n",
       "<style scoped>\n",
       "    .dataframe tbody tr th:only-of-type {\n",
       "        vertical-align: middle;\n",
       "    }\n",
       "\n",
       "    .dataframe tbody tr th {\n",
       "        vertical-align: top;\n",
       "    }\n",
       "\n",
       "    .dataframe thead th {\n",
       "        text-align: right;\n",
       "    }\n",
       "</style>\n",
       "<table border=\"1\" class=\"dataframe\">\n",
       "  <thead>\n",
       "    <tr style=\"text-align: right;\">\n",
       "      <th></th>\n",
       "      <th>bd</th>\n",
       "    </tr>\n",
       "  </thead>\n",
       "  <tbody>\n",
       "    <tr>\n",
       "      <th>count</th>\n",
       "      <td>1793971.000</td>\n",
       "    </tr>\n",
       "    <tr>\n",
       "      <th>mean</th>\n",
       "      <td>10.462</td>\n",
       "    </tr>\n",
       "    <tr>\n",
       "      <th>std</th>\n",
       "      <td>18.300</td>\n",
       "    </tr>\n",
       "    <tr>\n",
       "      <th>min</th>\n",
       "      <td>-3152.000</td>\n",
       "    </tr>\n",
       "    <tr>\n",
       "      <th>25%</th>\n",
       "      <td>0.000</td>\n",
       "    </tr>\n",
       "    <tr>\n",
       "      <th>50%</th>\n",
       "      <td>0.000</td>\n",
       "    </tr>\n",
       "    <tr>\n",
       "      <th>75%</th>\n",
       "      <td>24.000</td>\n",
       "    </tr>\n",
       "    <tr>\n",
       "      <th>max</th>\n",
       "      <td>2016.000</td>\n",
       "    </tr>\n",
       "  </tbody>\n",
       "</table>\n",
       "</div>"
      ],
      "text/plain": [
       "               bd\n",
       "count 1793971.000\n",
       "mean       10.462\n",
       "std        18.300\n",
       "min     -3152.000\n",
       "25%         0.000\n",
       "50%         0.000\n",
       "75%        24.000\n",
       "max      2016.000"
      ]
     },
     "metadata": {},
     "output_type": "display_data"
    },
    {
     "name": "stdout",
     "output_type": "stream",
     "text": [
      "Ages between 0 ~ 90   :  0.350   \n"
     ]
    }
   ],
   "source": [
    "display(df_data[['bd']].describe())\n",
    "# how many % of meanful values? \n",
    "meaningful = (df_data.bd > 0 ) & (df_data.bd < 90)\n",
    "print('Ages between 0 ~ 90   :  %.3f   ' %( len(df_data[meaningful]) / len(df_data) ))"
   ]
  },
  {
   "cell_type": "code",
   "execution_count": 20,
   "id": "afbafdef-7509-47e0-9456-3fe261fb9129",
   "metadata": {},
   "outputs": [
    {
     "data": {
      "image/png": "[encoded data removed]",
      "text/plain": [
       "<Figure size 2500x1000 with 2 Axes>"
      ]
     },
     "metadata": {},
     "output_type": "display_data"
    }
   ],
   "source": [
    "sns.set(font_scale=1.56)\n",
    "from pandas.plotting import table\n",
    "\n",
    "# create fig and ax \n",
    "with sns.axes_style('white'):\n",
    "    fig, [ax1, ax2] = plt.subplots(1,2, figsize=(25,10))\n",
    "# distribution\n",
    "    NOT_churn = ( (df_data.is_churn == 0) & (df_data.bd > 0 ) & (df_data.bd < 90) )\n",
    "    churn = ( (df_data.is_churn == 1) & (df_data.bd > 0 ) & (df_data.bd < 90) )\n",
    "    bins= 25\n",
    "    sns.distplot(df_data.loc[NOT_churn,'bd'],kde=False,label='NOT_churn',ax=ax1,norm_hist=True,bins=bins)\n",
    "    sns.distplot(df_data.loc[churn,'bd'],kde=False,label='churn',ax=ax1,norm_hist=True,bins=bins)\n",
    "    ax1.legend()\n",
    "    ax1.axvline(26,linestyle='dashed',c='black',alpha=.5)\n",
    "\n",
    "# feature engineering\n",
    "# create feature  bd<26 == 1, bd>26 ==0 , other = -1\n",
    "    condition = df_data.bd < 26\n",
    "    df_data['age_under_26'] = df_data.bd.apply(lambda x: 1 if 0 < x <= 26 else 0 if 26 < x <= 90 else -1)\n",
    "\n",
    "# prepare table (% of each value)\n",
    "    df_percent = pd.DataFrame( df_data['age_under_26'].value_counts().sort_index() / len(df_data) ).round(3) \n",
    "# barplot with percent table\n",
    "    sns.barplot(x='age_under_26',y='is_churn',data=df_data,ax=ax2)\n",
    "    ax2.axhline(0.049,linestyle='dashed', c='black',alpha = .3)\n",
    "    table(ax2, df_percent,bbox=[0.035, 0.72, 0.2, 0.27])"
   ]
  },
  {
   "cell_type": "code",
   "execution_count": 21,
   "id": "4e372b2b-f335-4580-a3f9-651bc1b094c9",
   "metadata": {},
   "outputs": [
    {
     "name": "stdout",
     "output_type": "stream",
     "text": [
      "Index(['msno', 'is_churn', 'six_month_day_listen', 'six_month_satis', 'city',\n",
      "       'bd', 'gender', 'registered_via', 'registration_init_time',\n",
      "       'age_under_26'],\n",
      "      dtype='object')\n",
      "Index(['msno', 'is_churn', 'six_month_day_listen', 'six_month_satis', 'city',\n",
      "       'bd', 'gender', 'registered_via', 'registration_init_time',\n",
      "       'age_under_26'],\n",
      "      dtype='object')\n"
     ]
    }
   ],
   "source": [
    "# split and prepare features \n",
    "df_train = df_data[:len(df_train)]\n",
    "df_sub = df_data[len(df_train):]\n",
    "print(df_train.columns)\n",
    "print(df_sub.columns)\n",
    "age_fts = reg_via_fts + ['age_under_26']\n",
    "exclude_list = ['msno','is_churn']"
   ]
  },
  {
   "cell_type": "markdown",
   "id": "35a1bdb9-c604-457c-8995-e0343b402d98",
   "metadata": {
    "jp-MarkdownHeadingCollapsed": true
   },
   "source": [
    "### Testing Model: xgb(0.1627)"
   ]
  },
  {
   "cell_type": "code",
   "execution_count": 22,
   "id": "45b983a0-2d5d-4b9a-9d5b-37f2283d6e0e",
   "metadata": {},
   "outputs": [
    {
     "name": "stdout",
     "output_type": "stream",
     "text": [
      "training using features: ['six_month_day_listen', 'six_month_satis', 'registered_via', 'age_under_26']\n",
      "[0]\tvalidation_0-logloss:0.23350\tvalidation_1-logloss:0.23319\n",
      "[70]\tvalidation_0-logloss:0.16276\tvalidation_1-logloss:0.16330\n",
      "[140]\tvalidation_0-logloss:0.16241\tvalidation_1-logloss:0.16323\n",
      "[178]\tvalidation_0-logloss:0.16227\tvalidation_1-logloss:0.16325\n",
      "add_age_xgb:  0.16322434763641586\n"
     ]
    }
   ],
   "source": [
    "print('training using features:' ,[fts for fts in age_fts if fts not in exclude_list])\n",
    "age_model_xgb, age_val_score_xgb,\\\n",
    "age_pred_xgb = model_training_xgb(df_train[age_fts],df_sub[age_fts])\n",
    "print('add_age_xgb: ', age_val_score_xgb)"
   ]
  },
  {
   "cell_type": "markdown",
   "id": "48d0a168-fd85-4e71-b531-2026e68b6c85",
   "metadata": {
    "jp-MarkdownHeadingCollapsed": true
   },
   "source": [
    "### Transactions table"
   ]
  },
  {
   "cell_type": "code",
   "execution_count": 60,
   "id": "e396c5c8-50ec-4f79-b380-51b4bc11ce40",
   "metadata": {},
   "outputs": [
    {
     "name": "stderr",
     "output_type": "stream",
     "text": [
      "Query complete after 0.00s: 100% 2/2 [00:00<00:00, 711.99query/s]                         \n",
      "Downloading: 100% 5/5 [00:00<00:00,  5.39rows/s]\n"
     ]
    },
    {
     "data": {
      "text/html": [
       "<div>\n",
       "<style scoped>\n",
       "    .dataframe tbody tr th:only-of-type {\n",
       "        vertical-align: middle;\n",
       "    }\n",
       "\n",
       "    .dataframe tbody tr th {\n",
       "        vertical-align: top;\n",
       "    }\n",
       "\n",
       "    .dataframe thead th {\n",
       "        text-align: right;\n",
       "    }\n",
       "</style>\n",
       "<table border=\"1\" class=\"dataframe\">\n",
       "  <thead>\n",
       "    <tr style=\"text-align: right;\">\n",
       "      <th></th>\n",
       "      <th>msno</th>\n",
       "      <th>payment_method_id</th>\n",
       "      <th>payment_plan_days</th>\n",
       "      <th>plan_list_price</th>\n",
       "      <th>actual_amount_paid</th>\n",
       "      <th>is_auto_renew</th>\n",
       "      <th>transaction_date</th>\n",
       "      <th>membership_expire_date</th>\n",
       "      <th>is_cancel</th>\n",
       "    </tr>\n",
       "  </thead>\n",
       "  <tbody>\n",
       "    <tr>\n",
       "      <th>0</th>\n",
       "      <td>MkgYNGcJmsoEBDbNXey0d9oUR/zAjagROi1PVVOtuM0=</td>\n",
       "      <td>35</td>\n",
       "      <td>7</td>\n",
       "      <td>0</td>\n",
       "      <td>0</td>\n",
       "      <td>0</td>\n",
       "      <td>20150528</td>\n",
       "      <td>20150615</td>\n",
       "      <td>0</td>\n",
       "    </tr>\n",
       "    <tr>\n",
       "      <th>1</th>\n",
       "      <td>kMITipZp6+wPnHznuOUP4v9gpjS3zSAc0/pQ3VXtPLA=</td>\n",
       "      <td>35</td>\n",
       "      <td>7</td>\n",
       "      <td>0</td>\n",
       "      <td>0</td>\n",
       "      <td>0</td>\n",
       "      <td>20150528</td>\n",
       "      <td>20150615</td>\n",
       "      <td>0</td>\n",
       "    </tr>\n",
       "    <tr>\n",
       "      <th>2</th>\n",
       "      <td>JukvKy8Ea4gFhTwdOfNxQfQtf3LKS4vOZw73Vwzk2iM=</td>\n",
       "      <td>35</td>\n",
       "      <td>7</td>\n",
       "      <td>0</td>\n",
       "      <td>0</td>\n",
       "      <td>0</td>\n",
       "      <td>20150528</td>\n",
       "      <td>20150615</td>\n",
       "      <td>0</td>\n",
       "    </tr>\n",
       "    <tr>\n",
       "      <th>3</th>\n",
       "      <td>7Ho4OMdzkXhW6U3Q9+GBJouRqEvohxYJQak2X4qBiq0=</td>\n",
       "      <td>35</td>\n",
       "      <td>7</td>\n",
       "      <td>0</td>\n",
       "      <td>0</td>\n",
       "      <td>0</td>\n",
       "      <td>20150528</td>\n",
       "      <td>20150615</td>\n",
       "      <td>0</td>\n",
       "    </tr>\n",
       "    <tr>\n",
       "      <th>4</th>\n",
       "      <td>0B+rduyyHPmJ6FsCFFjaCqxXx8Ioa+Ue5vv+5UPlNoQ=</td>\n",
       "      <td>35</td>\n",
       "      <td>7</td>\n",
       "      <td>0</td>\n",
       "      <td>0</td>\n",
       "      <td>0</td>\n",
       "      <td>20150528</td>\n",
       "      <td>20150615</td>\n",
       "      <td>0</td>\n",
       "    </tr>\n",
       "  </tbody>\n",
       "</table>\n",
       "</div>"
      ],
      "text/plain": [
       "                                           msno  payment_method_id  \\\n",
       "0  MkgYNGcJmsoEBDbNXey0d9oUR/zAjagROi1PVVOtuM0=                 35   \n",
       "1  kMITipZp6+wPnHznuOUP4v9gpjS3zSAc0/pQ3VXtPLA=                 35   \n",
       "2  JukvKy8Ea4gFhTwdOfNxQfQtf3LKS4vOZw73Vwzk2iM=                 35   \n",
       "3  7Ho4OMdzkXhW6U3Q9+GBJouRqEvohxYJQak2X4qBiq0=                 35   \n",
       "4  0B+rduyyHPmJ6FsCFFjaCqxXx8Ioa+Ue5vv+5UPlNoQ=                 35   \n",
       "\n",
       "   payment_plan_days  plan_list_price  actual_amount_paid  is_auto_renew  \\\n",
       "0                  7                0                   0              0   \n",
       "1                  7                0                   0              0   \n",
       "2                  7                0                   0              0   \n",
       "3                  7                0                   0              0   \n",
       "4                  7                0                   0              0   \n",
       "\n",
       "   transaction_date  membership_expire_date  is_cancel  \n",
       "0          20150528                20150615          0  \n",
       "1          20150528                20150615          0  \n",
       "2          20150528                20150615          0  \n",
       "3          20150528                20150615          0  \n",
       "4          20150528                20150615          0  "
      ]
     },
     "execution_count": 60,
     "metadata": {},
     "output_type": "execute_result"
    }
   ],
   "source": [
    "%%bigquery\n",
    "SELECT *\n",
    "FROM certain-arcana-418302.KK_data.ttransactions\n",
    "LIMIT 5"
   ]
  },
  {
   "cell_type": "code",
   "execution_count": 23,
   "id": "0eac8fa3-59c7-4d58-a704-9e3c3432894f",
   "metadata": {},
   "outputs": [
    {
     "name": "stdout",
     "output_type": "stream",
     "text": [
      "<class 'pandas.core.frame.DataFrame'>\n",
      "RangeIndex: 21547746 entries, 0 to 21547745\n",
      "Data columns (total 9 columns):\n",
      " #   Column                  Dtype \n",
      "---  ------                  ----- \n",
      " 0   msno                    object\n",
      " 1   payment_method_id       int64 \n",
      " 2   payment_plan_days       int64 \n",
      " 3   plan_list_price         int64 \n",
      " 4   actual_amount_paid      int64 \n",
      " 5   is_auto_renew           int64 \n",
      " 6   transaction_date        int64 \n",
      " 7   membership_expire_date  int64 \n",
      " 8   is_cancel               int64 \n",
      "dtypes: int64(8), object(1)\n",
      "memory usage: 1.4+ GB\n"
     ]
    }
   ],
   "source": [
    "# 执行 SQL 查询\n",
    "query = \"\"\"\n",
    "SELECT *\n",
    "FROM certain-arcana-418302.KK_data.ttransactions\n",
    "\"\"\"\n",
    "query_job = client.query(query)\n",
    "\n",
    "# 将结果读取到 Pandas DataFrame 中\n",
    "dftrans = query_job.to_dataframe()\n",
    "\n",
    "# 打印结果\n",
    "dftrans.info()"
   ]
  },
  {
   "cell_type": "code",
   "execution_count": 24,
   "id": "93b7bee7-17b9-4f8f-af73-703461b824e4",
   "metadata": {},
   "outputs": [
    {
     "name": "stdout",
     "output_type": "stream",
     "text": [
      "<class 'pandas.core.frame.DataFrame'>\n",
      "RangeIndex: 1431009 entries, 0 to 1431008\n",
      "Data columns (total 9 columns):\n",
      " #   Column                  Non-Null Count    Dtype \n",
      "---  ------                  --------------    ----- \n",
      " 0   msno                    1431009 non-null  object\n",
      " 1   payment_method_id       1431009 non-null  int64 \n",
      " 2   payment_plan_days       1431009 non-null  int64 \n",
      " 3   plan_list_price         1431009 non-null  int64 \n",
      " 4   actual_amount_paid      1431009 non-null  int64 \n",
      " 5   is_auto_renew           1431009 non-null  int64 \n",
      " 6   transaction_date        1431009 non-null  int64 \n",
      " 7   membership_expire_date  1431009 non-null  int64 \n",
      " 8   is_cancel               1431009 non-null  int64 \n",
      "dtypes: int64(8), object(1)\n",
      "memory usage: 98.3+ MB\n"
     ]
    }
   ],
   "source": [
    "# 执行 SQL 查询\n",
    "query = \"\"\"\n",
    "SELECT *\n",
    "FROM certain-arcana-418302.KK_data.ttransactions_v2\n",
    "\"\"\"\n",
    "query_job = client.query(query)\n",
    "\n",
    "# 将结果读取到 Pandas DataFrame 中\n",
    "dftrans2 = query_job.to_dataframe()\n",
    "\n",
    "# 打印结果\n",
    "dftrans2.info()"
   ]
  },
  {
   "cell_type": "code",
   "execution_count": 25,
   "id": "48bd3835-3a08-4dd1-9faf-e03a0103bf53",
   "metadata": {},
   "outputs": [
    {
     "data": {
      "text/plain": [
       "((14622996, 10), (14545180, 10))"
      ]
     },
     "execution_count": 25,
     "metadata": {},
     "output_type": "execute_result"
    }
   ],
   "source": [
    "# certain-arcana-418302.KK_data.ttransactions_v3: UNION DISTINCT\n",
    "# df_trans_all: UNION ALL\n",
    "df_trans_all = pd.concat([dftrans, dftrans2], axis = 0)\n",
    "df_train_trans = pd.merge(df_train[['msno','is_churn']],df_trans_all,how='left',on=['msno'])\n",
    "df_sub_trans = pd.merge(df_sub[['msno','is_churn']],df_trans_all,how='left',on=['msno'])\n",
    "df_train_trans.shape, df_sub_trans.shape"
   ]
  },
  {
   "cell_type": "markdown",
   "id": "1df8c7a3-c841-47db-9732-946b87344c68",
   "metadata": {
    "jp-MarkdownHeadingCollapsed": true
   },
   "source": [
    "### 自定義3個壓縮資料型態的函數"
   ]
  },
  {
   "cell_type": "markdown",
   "id": "b078ddb4-0e11-4d06-af0e-487fa5cacc34",
   "metadata": {},
   "source": [
    "轉換資料型態\n",
    "1. 離散型特徵: pandas會將非數字類型的資料存成object，而越有彈性的設計相對來說就要越吃記憶體，如果確認該行列之中的重複值超過50%，我們就將其轉換成category，這會大大降低記憶體的佔用，其原理就是同樣的物體pandas將其存成一個物件，再加上不同位置的標註，這確實比起object，每一筆資料都存成一個物件，省記憶體的多\n",
    "2. 數值型特徵: pandas提供了downcast的函數，如果該行的數字不需要用到很多數字，就用比較小的數字型態，例如int8支援-255到255，int16,int32,int64則是支援更多數字，也有unit及float等型態\n",
    "3. 日期格式: 原本DataFrame中使用int64來表示，我們將其轉換成datetime64的格式，而考慮到效能的問題，如果使用內建函式來轉換，pandas會將數據逐一轉換，這造成了在電腦前等到天荒地老的囧境，經筆者研究之後，日期這種欄位通常重複性非常高，先在行之中取出所有單獨的日期，轉換格式之後，在map回去，就快多了"
   ]
  },
  {
   "cell_type": "code",
   "execution_count": 64,
   "id": "05f7ec5b-0a55-4456-9d4c-84b1082d9d07",
   "metadata": {},
   "outputs": [
    {
     "data": {
      "text/html": [
       "<div>\n",
       "<style scoped>\n",
       "    .dataframe tbody tr th:only-of-type {\n",
       "        vertical-align: middle;\n",
       "    }\n",
       "\n",
       "    .dataframe tbody tr th {\n",
       "        vertical-align: top;\n",
       "    }\n",
       "\n",
       "    .dataframe thead th {\n",
       "        text-align: right;\n",
       "    }\n",
       "</style>\n",
       "<table border=\"1\" class=\"dataframe\">\n",
       "  <thead>\n",
       "    <tr style=\"text-align: right;\">\n",
       "      <th></th>\n",
       "      <th>msno</th>\n",
       "      <th>is_churn</th>\n",
       "      <th>payment_method_id</th>\n",
       "      <th>payment_plan_days</th>\n",
       "      <th>plan_list_price</th>\n",
       "      <th>actual_amount_paid</th>\n",
       "      <th>is_auto_renew</th>\n",
       "      <th>transaction_date</th>\n",
       "      <th>membership_expire_date</th>\n",
       "      <th>is_cancel</th>\n",
       "    </tr>\n",
       "  </thead>\n",
       "  <tbody>\n",
       "    <tr>\n",
       "      <th>0</th>\n",
       "      <td>exX1s+1wB6wG5/EYnh6zI+CegnlCDjoEgDuSPks3ltk=</td>\n",
       "      <td>1.000</td>\n",
       "      <td>38</td>\n",
       "      <td>30</td>\n",
       "      <td>149</td>\n",
       "      <td>149</td>\n",
       "      <td>0</td>\n",
       "      <td>20150918</td>\n",
       "      <td>20151018</td>\n",
       "      <td>0</td>\n",
       "    </tr>\n",
       "    <tr>\n",
       "      <th>1</th>\n",
       "      <td>exX1s+1wB6wG5/EYnh6zI+CegnlCDjoEgDuSPks3ltk=</td>\n",
       "      <td>1.000</td>\n",
       "      <td>38</td>\n",
       "      <td>30</td>\n",
       "      <td>149</td>\n",
       "      <td>149</td>\n",
       "      <td>0</td>\n",
       "      <td>20160109</td>\n",
       "      <td>20160208</td>\n",
       "      <td>0</td>\n",
       "    </tr>\n",
       "    <tr>\n",
       "      <th>2</th>\n",
       "      <td>exX1s+1wB6wG5/EYnh6zI+CegnlCDjoEgDuSPks3ltk=</td>\n",
       "      <td>1.000</td>\n",
       "      <td>38</td>\n",
       "      <td>30</td>\n",
       "      <td>149</td>\n",
       "      <td>149</td>\n",
       "      <td>0</td>\n",
       "      <td>20160220</td>\n",
       "      <td>20160321</td>\n",
       "      <td>0</td>\n",
       "    </tr>\n",
       "    <tr>\n",
       "      <th>3</th>\n",
       "      <td>exX1s+1wB6wG5/EYnh6zI+CegnlCDjoEgDuSPks3ltk=</td>\n",
       "      <td>1.000</td>\n",
       "      <td>38</td>\n",
       "      <td>30</td>\n",
       "      <td>149</td>\n",
       "      <td>149</td>\n",
       "      <td>0</td>\n",
       "      <td>20160420</td>\n",
       "      <td>20160520</td>\n",
       "      <td>0</td>\n",
       "    </tr>\n",
       "    <tr>\n",
       "      <th>4</th>\n",
       "      <td>exX1s+1wB6wG5/EYnh6zI+CegnlCDjoEgDuSPks3ltk=</td>\n",
       "      <td>1.000</td>\n",
       "      <td>38</td>\n",
       "      <td>30</td>\n",
       "      <td>149</td>\n",
       "      <td>149</td>\n",
       "      <td>0</td>\n",
       "      <td>20151114</td>\n",
       "      <td>20151214</td>\n",
       "      <td>0</td>\n",
       "    </tr>\n",
       "  </tbody>\n",
       "</table>\n",
       "</div>"
      ],
      "text/plain": [
       "                                           msno  is_churn  payment_method_id  \\\n",
       "0  exX1s+1wB6wG5/EYnh6zI+CegnlCDjoEgDuSPks3ltk=     1.000                 38   \n",
       "1  exX1s+1wB6wG5/EYnh6zI+CegnlCDjoEgDuSPks3ltk=     1.000                 38   \n",
       "2  exX1s+1wB6wG5/EYnh6zI+CegnlCDjoEgDuSPks3ltk=     1.000                 38   \n",
       "3  exX1s+1wB6wG5/EYnh6zI+CegnlCDjoEgDuSPks3ltk=     1.000                 38   \n",
       "4  exX1s+1wB6wG5/EYnh6zI+CegnlCDjoEgDuSPks3ltk=     1.000                 38   \n",
       "\n",
       "   payment_plan_days  plan_list_price  actual_amount_paid  is_auto_renew  \\\n",
       "0                 30              149                 149              0   \n",
       "1                 30              149                 149              0   \n",
       "2                 30              149                 149              0   \n",
       "3                 30              149                 149              0   \n",
       "4                 30              149                 149              0   \n",
       "\n",
       "   transaction_date  membership_expire_date  is_cancel  \n",
       "0          20150918                20151018          0  \n",
       "1          20160109                20160208          0  \n",
       "2          20160220                20160321          0  \n",
       "3          20160420                20160520          0  \n",
       "4          20151114                20151214          0  "
      ]
     },
     "execution_count": 64,
     "metadata": {},
     "output_type": "execute_result"
    }
   ],
   "source": [
    "df_train_trans.head()"
   ]
  },
  {
   "cell_type": "code",
   "execution_count": 26,
   "id": "cd51fe37-8ba8-40be-b46c-e738f774b9d8",
   "metadata": {},
   "outputs": [],
   "source": [
    "def dtype_compressor(df):\n",
    "  #object \n",
    "  # when unique ratio > 0.5, catogory stands less memory than object\n",
    "  converted_obj = pd.DataFrame()\n",
    "  df_obj = df.select_dtypes(include=['object'])\n",
    "  for col in df_obj.columns:\n",
    "    converted_obj.loc[:,col] = df_obj.loc[:,col].astype('category')\n",
    "\n",
    "  # numbers\n",
    "  df_down_num = pd.DataFrame()\n",
    "  df_num = df.select_dtypes(include=['number'])\n",
    "  for col in df_num.columns:\n",
    "    df_down_num.loc[:,col] = pd.to_numeric(df_num.loc[:,col],downcast='signed')\n",
    "\n",
    "  # merge\n",
    "  df = pd.concat([converted_obj,df_down_num],axis=1)\n",
    "  \n",
    "  del converted_obj, df_obj, df_down_num, df_num  \n",
    "  \n",
    "  return df"
   ]
  },
  {
   "cell_type": "code",
   "execution_count": 27,
   "id": "cf6d0736-806b-4a49-97ad-9f35c4546482",
   "metadata": {},
   "outputs": [],
   "source": [
    "def fast_datetime(s):\n",
    "    dates = {date:pd.to_datetime(date,format='%Y%m%d') for date in s.unique()}\n",
    "    return s.map(dates)"
   ]
  },
  {
   "cell_type": "code",
   "execution_count": 28,
   "id": "38a9ff6d-7cf6-4ecd-9dc7-08d63b3c1ed3",
   "metadata": {},
   "outputs": [],
   "source": [
    "# rename the columns\n",
    "date_rename = {'transaction_date':'trans_date', 'membership_expire_date':'mem_expire_date'}\n",
    "df_train_trans.rename(columns=date_rename,inplace=True)\n",
    "df_sub_trans.rename(columns=date_rename,inplace=True)\n",
    "\n",
    "# converting\n",
    "df_train_trans = dtype_compressor(df_train_trans)\n",
    "df_sub_trans = dtype_compressor(df_sub_trans)\n",
    "\n",
    "d = ['trans_date', 'mem_expire_date']\n",
    "for col in d:\n",
    "  df_train_trans[col] = fast_datetime(df_train_trans[col])\n",
    "  df_sub_trans[col] = fast_datetime(df_sub_trans[col])"
   ]
  },
  {
   "cell_type": "code",
   "execution_count": 68,
   "id": "b479a508-8846-465d-9cec-a666aaedeecf",
   "metadata": {},
   "outputs": [
    {
     "name": "stdout",
     "output_type": "stream",
     "text": [
      "Traning_set missing:\n",
      " msno                 0.000\n",
      "is_churn             0.000\n",
      "payment_method_id    0.000\n",
      "payment_plan_days    0.000\n",
      "plan_list_price      0.000\n",
      "actual_amount_paid   0.000\n",
      "is_auto_renew        0.000\n",
      "trans_date           0.000\n",
      "mem_expire_date      0.000\n",
      "is_cancel            0.000\n",
      "dtype: float64\n",
      "\n",
      "____________________________________________________________\n",
      "\n",
      "Testing_set missing:\n",
      " msno                 0.000\n",
      "is_churn             1.000\n",
      "payment_method_id    0.000\n",
      "payment_plan_days    0.000\n",
      "plan_list_price      0.000\n",
      "actual_amount_paid   0.000\n",
      "is_auto_renew        0.000\n",
      "trans_date           0.000\n",
      "mem_expire_date      0.000\n",
      "is_cancel            0.000\n",
      "dtype: float64\n"
     ]
    }
   ],
   "source": [
    "print(\"Traning_set missing:\\n\",np.around(df_train_trans.isnull().sum() / df_train_trans.shape[0],decimals=3))\n",
    "print(''*60)\n",
    "print(\"_\"*60)\n",
    "print(''*60)\n",
    "print(\"Testing_set missing:\\n\",np.around(df_sub_trans.isnull().sum() / df_sub_trans.shape[0],decimals=3))"
   ]
  },
  {
   "cell_type": "code",
   "execution_count": 29,
   "id": "dc6cbe25-1299-4298-8d15-0a65383d0ce1",
   "metadata": {},
   "outputs": [
    {
     "data": {
      "text/html": [
       "<div>\n",
       "<style scoped>\n",
       "    .dataframe tbody tr th:only-of-type {\n",
       "        vertical-align: middle;\n",
       "    }\n",
       "\n",
       "    .dataframe tbody tr th {\n",
       "        vertical-align: top;\n",
       "    }\n",
       "\n",
       "    .dataframe thead th {\n",
       "        text-align: right;\n",
       "    }\n",
       "</style>\n",
       "<table border=\"1\" class=\"dataframe\">\n",
       "  <thead>\n",
       "    <tr style=\"text-align: right;\">\n",
       "      <th></th>\n",
       "      <th>msno</th>\n",
       "      <th>is_churn</th>\n",
       "      <th>payment_method_id</th>\n",
       "      <th>payment_plan_days</th>\n",
       "      <th>plan_list_price</th>\n",
       "      <th>actual_amount_paid</th>\n",
       "      <th>is_auto_renew</th>\n",
       "      <th>trans_date</th>\n",
       "      <th>mem_expire_date</th>\n",
       "      <th>is_cancel</th>\n",
       "    </tr>\n",
       "  </thead>\n",
       "  <tbody>\n",
       "    <tr>\n",
       "      <th>2044338</th>\n",
       "      <td>+++hVY1rZox/33YtvDgmKA2Frg/2qhkz12B9ylCvh8o=</td>\n",
       "      <td>0</td>\n",
       "      <td>41</td>\n",
       "      <td>30</td>\n",
       "      <td>99</td>\n",
       "      <td>99</td>\n",
       "      <td>1</td>\n",
       "      <td>2016-11-16</td>\n",
       "      <td>2016-12-15</td>\n",
       "      <td>0</td>\n",
       "    </tr>\n",
       "    <tr>\n",
       "      <th>2044335</th>\n",
       "      <td>+++hVY1rZox/33YtvDgmKA2Frg/2qhkz12B9ylCvh8o=</td>\n",
       "      <td>0</td>\n",
       "      <td>41</td>\n",
       "      <td>30</td>\n",
       "      <td>99</td>\n",
       "      <td>99</td>\n",
       "      <td>1</td>\n",
       "      <td>2016-12-15</td>\n",
       "      <td>2017-01-15</td>\n",
       "      <td>0</td>\n",
       "    </tr>\n",
       "    <tr>\n",
       "      <th>2044337</th>\n",
       "      <td>+++hVY1rZox/33YtvDgmKA2Frg/2qhkz12B9ylCvh8o=</td>\n",
       "      <td>0</td>\n",
       "      <td>41</td>\n",
       "      <td>30</td>\n",
       "      <td>99</td>\n",
       "      <td>99</td>\n",
       "      <td>1</td>\n",
       "      <td>2017-01-15</td>\n",
       "      <td>2017-02-15</td>\n",
       "      <td>0</td>\n",
       "    </tr>\n",
       "    <tr>\n",
       "      <th>2044336</th>\n",
       "      <td>+++hVY1rZox/33YtvDgmKA2Frg/2qhkz12B9ylCvh8o=</td>\n",
       "      <td>0</td>\n",
       "      <td>41</td>\n",
       "      <td>30</td>\n",
       "      <td>99</td>\n",
       "      <td>99</td>\n",
       "      <td>1</td>\n",
       "      <td>2017-02-15</td>\n",
       "      <td>2017-03-15</td>\n",
       "      <td>0</td>\n",
       "    </tr>\n",
       "    <tr>\n",
       "      <th>2044339</th>\n",
       "      <td>+++hVY1rZox/33YtvDgmKA2Frg/2qhkz12B9ylCvh8o=</td>\n",
       "      <td>0</td>\n",
       "      <td>41</td>\n",
       "      <td>30</td>\n",
       "      <td>99</td>\n",
       "      <td>99</td>\n",
       "      <td>1</td>\n",
       "      <td>2017-03-15</td>\n",
       "      <td>2017-04-15</td>\n",
       "      <td>0</td>\n",
       "    </tr>\n",
       "  </tbody>\n",
       "</table>\n",
       "</div>"
      ],
      "text/plain": [
       "                                                 msno  is_churn  \\\n",
       "2044338  +++hVY1rZox/33YtvDgmKA2Frg/2qhkz12B9ylCvh8o=         0   \n",
       "2044335  +++hVY1rZox/33YtvDgmKA2Frg/2qhkz12B9ylCvh8o=         0   \n",
       "2044337  +++hVY1rZox/33YtvDgmKA2Frg/2qhkz12B9ylCvh8o=         0   \n",
       "2044336  +++hVY1rZox/33YtvDgmKA2Frg/2qhkz12B9ylCvh8o=         0   \n",
       "2044339  +++hVY1rZox/33YtvDgmKA2Frg/2qhkz12B9ylCvh8o=         0   \n",
       "\n",
       "         payment_method_id  payment_plan_days  plan_list_price  \\\n",
       "2044338                 41                 30               99   \n",
       "2044335                 41                 30               99   \n",
       "2044337                 41                 30               99   \n",
       "2044336                 41                 30               99   \n",
       "2044339                 41                 30               99   \n",
       "\n",
       "         actual_amount_paid  is_auto_renew trans_date mem_expire_date  \\\n",
       "2044338                  99              1 2016-11-16      2016-12-15   \n",
       "2044335                  99              1 2016-12-15      2017-01-15   \n",
       "2044337                  99              1 2017-01-15      2017-02-15   \n",
       "2044336                  99              1 2017-02-15      2017-03-15   \n",
       "2044339                  99              1 2017-03-15      2017-04-15   \n",
       "\n",
       "         is_cancel  \n",
       "2044338          0  \n",
       "2044335          0  \n",
       "2044337          0  \n",
       "2044336          0  \n",
       "2044339          0  "
      ]
     },
     "execution_count": 29,
     "metadata": {},
     "output_type": "execute_result"
    }
   ],
   "source": [
    "# sort first for easier exploration\n",
    "df_train_trans = df_train_trans.sort_values(by=['msno','trans_date'])\n",
    "df_sub_trans = df_sub_trans.sort_values(by=['msno','trans_date'])\n",
    "df_train_trans.head()"
   ]
  },
  {
   "cell_type": "markdown",
   "id": "0e5f522a-4808-4b1b-8359-c5396d708ba0",
   "metadata": {},
   "source": [
    "觀察點\n",
    "1. 我們將交易紀錄分別按照使用者以及日期排序，就可以看到同一個使用者的所有交易情況被放在一起，這點似乎在bigquery中辦不到，所以就使用pandas處理\n",
    "2. 在這5筆交易裡，我們就可以看到一位使用者從2016-11-16一路訂閱kkbox，都是30天的約，然後一路續約到2017-04-15\n",
    "3. 使用的是41號管道付費，皆為99元(讀者們可以自行觀看更多資料，就會發現，99元是訂閱一段時間過後才會有的優惠價格)\n",
    "4. 續約方式都是系統自動更新，都是在即將到期時由系統自動續約"
   ]
  },
  {
   "cell_type": "markdown",
   "id": "bb69cf2d-294c-4499-bf40-2fd2835b134c",
   "metadata": {
    "jp-MarkdownHeadingCollapsed": true
   },
   "source": [
    "### 針對是回鍋使用者(表示曾經流失過)"
   ]
  },
  {
   "cell_type": "markdown",
   "id": "af1f1079-58c7-4d90-ac54-82527c1d431f",
   "metadata": {},
   "source": [
    "是否是回鍋使用者(表示曾經流失過): 建立一個合約天數的特徵來觀察得更清楚\n",
    "\n",
    "合約天數(membership_int) = 會員到期日(mem_expire_date) - 交易日期(trans_date)"
   ]
  },
  {
   "cell_type": "code",
   "execution_count": 30,
   "id": "5cedeab7-ecb1-48b4-acb8-7c7785a23dd5",
   "metadata": {},
   "outputs": [
    {
     "data": {
      "text/html": [
       "<table style=\"display:inline\" border=\"1\" class=\"dataframe\">\n",
       "  <thead>\n",
       "    <tr style=\"text-align: right;\">\n",
       "      <th></th>\n",
       "      <th>membership_int</th>\n",
       "      <th>payment_plan_days</th>\n",
       "    </tr>\n",
       "  </thead>\n",
       "  <tbody>\n",
       "    <tr>\n",
       "      <th>count</th>\n",
       "      <td>14622996.000</td>\n",
       "      <td>14622996.000</td>\n",
       "    </tr>\n",
       "    <tr>\n",
       "      <th>mean</th>\n",
       "      <td>36.552</td>\n",
       "      <td>30.071</td>\n",
       "    </tr>\n",
       "    <tr>\n",
       "      <th>std</th>\n",
       "      <td>85.576</td>\n",
       "      <td>18.187</td>\n",
       "    </tr>\n",
       "    <tr>\n",
       "      <th>min</th>\n",
       "      <td>-17217.000</td>\n",
       "      <td>0.000</td>\n",
       "    </tr>\n",
       "    <tr>\n",
       "      <th>25%</th>\n",
       "      <td>30.000</td>\n",
       "      <td>30.000</td>\n",
       "    </tr>\n",
       "    <tr>\n",
       "      <th>50%</th>\n",
       "      <td>31.000</td>\n",
       "      <td>30.000</td>\n",
       "    </tr>\n",
       "    <tr>\n",
       "      <th>75%</th>\n",
       "      <td>31.000</td>\n",
       "      <td>30.000</td>\n",
       "    </tr>\n",
       "    <tr>\n",
       "      <th>max</th>\n",
       "      <td>2796.000</td>\n",
       "      <td>450.000</td>\n",
       "    </tr>\n",
       "  </tbody>\n",
       "</table style=\"display:inline\"><table style=\"display:inline\" border=\"1\" class=\"dataframe\">\n",
       "  <thead>\n",
       "    <tr style=\"text-align: right;\">\n",
       "      <th></th>\n",
       "      <th>membership_int</th>\n",
       "      <th>payment_plan_days</th>\n",
       "    </tr>\n",
       "  </thead>\n",
       "  <tbody>\n",
       "    <tr>\n",
       "      <th>count</th>\n",
       "      <td>14545180.000</td>\n",
       "      <td>14545180.000</td>\n",
       "    </tr>\n",
       "    <tr>\n",
       "      <th>mean</th>\n",
       "      <td>36.286</td>\n",
       "      <td>29.950</td>\n",
       "    </tr>\n",
       "    <tr>\n",
       "      <th>std</th>\n",
       "      <td>103.010</td>\n",
       "      <td>17.229</td>\n",
       "    </tr>\n",
       "    <tr>\n",
       "      <th>min</th>\n",
       "      <td>-17217.000</td>\n",
       "      <td>0.000</td>\n",
       "    </tr>\n",
       "    <tr>\n",
       "      <th>25%</th>\n",
       "      <td>30.000</td>\n",
       "      <td>30.000</td>\n",
       "    </tr>\n",
       "    <tr>\n",
       "      <th>50%</th>\n",
       "      <td>31.000</td>\n",
       "      <td>30.000</td>\n",
       "    </tr>\n",
       "    <tr>\n",
       "      <th>75%</th>\n",
       "      <td>31.000</td>\n",
       "      <td>30.000</td>\n",
       "    </tr>\n",
       "    <tr>\n",
       "      <th>max</th>\n",
       "      <td>2796.000</td>\n",
       "      <td>450.000</td>\n",
       "    </tr>\n",
       "  </tbody>\n",
       "</table style=\"display:inline\">"
      ]
     },
     "metadata": {},
     "output_type": "display_data"
    }
   ],
   "source": [
    "# sort first for easier exploration\n",
    "df_train_trans = df_train_trans.sort_values(by=['msno','trans_date'])\n",
    "df_sub_trans = df_sub_trans.sort_values(by=['msno','trans_date'])\n",
    "\n",
    "# build membership\n",
    "# now vectorlized (時間差除以這個 timedelta64 物件可以得到時間差的天數)\n",
    "df_train_trans['membership_int'] = (df_train_trans['mem_expire_date'] - df_train_trans['trans_date']).dt.days\n",
    "df_sub_trans['membership_int'] = (df_sub_trans['mem_expire_date'] - df_sub_trans['trans_date']).dt.days\n",
    "\n",
    "# glance \n",
    "pd.set_option('display.float_format', lambda x: '%.3f' % x)\n",
    "display_side_by_side(df_train_trans[['membership_int','payment_plan_days']].describe(),\\\n",
    "                    df_sub_trans[['membership_int','payment_plan_days']].describe())"
   ]
  },
  {
   "cell_type": "markdown",
   "id": "58c939df-05d1-4bb3-a55a-7591c18718ca",
   "metadata": {},
   "source": [
    "依照上述，照理說合約天數(membership_int)應該要和payment_plan_days(訂閱幾天)的值是一樣的。可能的原因是資料庫的錯誤(例如日期跳回1970/1/1)，或是直接跳到2020等等"
   ]
  },
  {
   "cell_type": "markdown",
   "id": "565e47c6-b48e-489f-981a-676856be079b",
   "metadata": {},
   "source": [
    "事實上現實生活中很多這種資料，根本處理不完(如果你沒有一個專門資料清理的團隊的話)，權衡之計就是評估這種資料的比例，以及他對於我們想預測的目標影響力有多大"
   ]
  },
  {
   "cell_type": "markdown",
   "id": "6d7e533e-6d89-4547-b987-9fd219354f40",
   "metadata": {},
   "source": [
    "筆者發現: 如果是曾經流失過的使用者，又回鍋使用kkbox，則之後流失的機率也會比較高，這可建構出多個特徵(例如上一次是否流失，總共流失幾次......等等)"
   ]
  },
  {
   "cell_type": "markdown",
   "id": "46d70aa4-cb0a-4b5c-8421-e824bd11e3ae",
   "metadata": {},
   "source": [
    "我們可以透過原本該筆交易的合約天數，來重新修正會員到期日，原本想像的大概就是這麼簡單，但是這個資料集實在很頑強，有很多難搞的地方"
   ]
  },
  {
   "cell_type": "markdown",
   "id": "d69790f4-1269-4a73-acf7-f587cfbdbcca",
   "metadata": {
    "jp-MarkdownHeadingCollapsed": true
   },
   "source": [
    "### 調整到期日expire (訓練資料)，分成以下四種狀況"
   ]
  },
  {
   "cell_type": "markdown",
   "id": "f97cdcf3-3554-40a6-adf9-96acffc08f96",
   "metadata": {},
   "source": [
    "1. is_cancel -> 交易是否取消\n",
    "2. payment_plan_days -> 原始交易天數\n",
    "3. trans_date -> 交易日期 (簡稱trans)\n",
    "4. mem_expire_date -> 到期日期 (簡稱expire)\n",
    "5. membership_int -> 修改過的交易天數 (expire - trans)"
   ]
  },
  {
   "cell_type": "markdown",
   "id": "12ecae3d-9c96-464d-86d5-6dc56beb6d21",
   "metadata": {
    "jp-MarkdownHeadingCollapsed": true
   },
   "source": [
    "### is_cancel = 0 && membership_int < -30 (訓練資料)"
   ]
  },
  {
   "cell_type": "code",
   "execution_count": 31,
   "id": "d02ecb67-767d-4af3-b7e7-735ea94ebe71",
   "metadata": {},
   "outputs": [
    {
     "name": "stdout",
     "output_type": "stream",
     "text": [
      "_______________  針對訓練資料的異常值  _______________\n",
      "if (is_cancel = 0 && membership_int < -30)\n",
      "payment_plan_days\n",
      "0       179\n",
      "30     1184\n",
      "60       74\n",
      "120       6\n",
      "180       6\n",
      "240      12\n",
      "Name: count, dtype: int64\n",
      "\n",
      "if (is_cancel = 0 && membership_int < -30 && payment_plan_days = 0)\n",
      "actual_amount_paid\n",
      "0        1\n",
      "149    178\n",
      "Name: count, dtype: int64\n"
     ]
    }
   ],
   "source": [
    "print(\"_\"*15,\" 針對訓練資料的異常值 \", \"_\"*15)\n",
    "print(\"if (is_cancel = 0 && membership_int < -30)\")\n",
    "min_date = df_train_trans.membership_int.min()\n",
    "con = ((df_train_trans.membership_int.between(min_date, -30)) & (df_train_trans.is_cancel == 0))\n",
    "print(df_train_trans.loc[con,'payment_plan_days'].value_counts().sort_index())\n",
    "print(''*60)\n",
    "are_0_plan_days = df_train_trans.payment_plan_days.isin([0])\n",
    "print(\"if (is_cancel = 0 && membership_int < -30 && payment_plan_days = 0)\")\n",
    "print(df_train_trans.loc[con & are_0_plan_days, 'actual_amount_paid'].value_counts().sort_index())"
   ]
  },
  {
   "cell_type": "markdown",
   "id": "62d8addc-318d-4681-ad72-a3cd784336e2",
   "metadata": {},
   "source": [
    "調整expire\n",
    "1. if (is_cancel = 0 && membership_int < -30 && payment_plan_days != 0) -> expire = trans + payment_plan_days \n",
    "2. if (is_cancel = 0 && membership_int < -30 && payment_plan_days = 0) -> expire = trans + 30"
   ]
  },
  {
   "cell_type": "code",
   "execution_count": 32,
   "id": "04fec113-2670-4ecb-8682-f18446756df8",
   "metadata": {},
   "outputs": [],
   "source": [
    "# if (is_cancel = 0 && membership_int < -30 && payment_plan_days != 0)\n",
    "#      expire = trans + payment_plan_days\n",
    "con = ((df_train_trans.membership_int.between(min_date,-30)) & (df_train_trans.is_cancel == 0))\n",
    "not_0_plan_days = ~ (df_train_trans.payment_plan_days.isin([0]))\n",
    "# df_train_trans.loc[con & not_0_plan_days, 'mem_expire_date'] = df_train_trans.loc[con & not_0_plan_days, 'trans_date'] + \\\n",
    "#                                                                 df_train_trans.loc[con & not_0_plan_days, 'payment_plan_days'] * pd.offsets.Day()\n",
    "df_train_trans.loc[con & not_0_plan_days, 'mem_expire_date'] = df_train_trans.loc[con & not_0_plan_days, 'trans_date'] + \\\n",
    "                                                                df_train_trans.loc[con & not_0_plan_days, 'payment_plan_days'] * pd.Timedelta('1 days')\n",
    "\n",
    "# if (is_cancel = 0 && membership_int < -30 && payment_plan_days = 0)\n",
    "#      expire = trans + 30\n",
    "are_0_plan_days = df_train_trans.payment_plan_days.isin([0])\n",
    "# df_train_trans.loc[con & are_0_plan_days, 'mem_expire_date'] = df_train_trans.loc[con & are_0_plan_days, 'trans_date'] + pd.DateOffset(days=30)\n",
    "df_train_trans.loc[con & are_0_plan_days, 'mem_expire_date'] = df_train_trans.loc[con & are_0_plan_days, 'trans_date'] + pd.Timedelta('30 days')"
   ]
  },
  {
   "cell_type": "markdown",
   "id": "e9e5d768-122e-4b3e-8038-80f5757eea87",
   "metadata": {
    "jp-MarkdownHeadingCollapsed": true
   },
   "source": [
    "### is_cancel = 0 && membership_int > 450 (訓練資料)"
   ]
  },
  {
   "cell_type": "code",
   "execution_count": 33,
   "id": "55cc7733-337d-40f6-b51c-deee0c21581c",
   "metadata": {},
   "outputs": [
    {
     "name": "stdout",
     "output_type": "stream",
     "text": [
      "_______________  針對訓練資料的異常值  _______________\n",
      "if (is_cancel = 0 && membership_int > 450)\n",
      "payment_plan_days\n",
      "0       3207\n",
      "1         12\n",
      "10         2\n",
      "14         1\n",
      "30     74547\n",
      "90         1\n",
      "180        3\n",
      "195        2\n",
      "360       14\n",
      "365        2\n",
      "395      142\n",
      "400        9\n",
      "410      108\n",
      "450       75\n",
      "Name: count, dtype: int64\n",
      "None\n",
      "\n",
      "if (is_cancel = 0 && membership_int > 450 && payment_plan_days = 0)\n",
      "actual_amount_paid\n",
      "100       17\n",
      "119      252\n",
      "129      268\n",
      "149     2657\n",
      "1599      11\n",
      "1788       2\n",
      "Name: count, dtype: int64\n"
     ]
    }
   ],
   "source": [
    "print(\"_\"*15,\" 針對訓練資料的異常值 \", \"_\"*15)\n",
    "print(\"if (is_cancel = 0 && membership_int > 450)\")\n",
    "print(print(df_train_trans.loc[(df_train_trans['membership_int'] > 450), 'payment_plan_days'].value_counts().sort_index()))\n",
    "print(''*60)\n",
    "print(\"if (is_cancel = 0 && membership_int > 450 && payment_plan_days = 0)\")\n",
    "con = (df_train_trans.payment_plan_days == 0) & (df_train_trans.membership_int > 450)\n",
    "print(df_train_trans.loc[con, 'actual_amount_paid'].value_counts().sort_index())"
   ]
  },
  {
   "cell_type": "markdown",
   "id": "1661593c-40f6-47da-999f-c26e654e737b",
   "metadata": {},
   "source": [
    "調整expire\n",
    "1. if (is_cancel = 0 && membership_int > 450 && payment_plan_days != 0) -> expire = trans + payment_plan_days \n",
    "2. if (is_cancel = 0 && membership_int > 450 && payment_plan_days = 0)\n",
    "\n",
    "        if actual_amount_paid = {100,119,129,149} --> expire = trans + 30 days\n",
    "\n",
    "        if actual_amount_paid = {1599,1788} --> expire = trans + 400 days"
   ]
  },
  {
   "cell_type": "code",
   "execution_count": 34,
   "id": "7c94e499-d1c4-4601-96cc-c49e9a0a0a0a",
   "metadata": {},
   "outputs": [],
   "source": [
    "# if (is_cancel = 0 && membership_int > 450 && payment_plan_days != 0) \n",
    "#      expire = trans + payment_plan_days\n",
    "max_date = df_train_trans.membership_int.max()\n",
    "con = ((df_train_trans.membership_int.between(450,max_date)) & (df_train_trans.is_cancel == 0))\n",
    "not_0_plan_days = ~ (df_train_trans.payment_plan_days.isin([0]))\n",
    "# df_train_trans.loc[con & not_0_plan_days, 'mem_expire_date'] = df_train_trans.loc[con & not_0_plan_days, 'trans_date'] + \\\n",
    "#                                                                 df_train_trans.loc[con & not_0_plan_days, 'payment_plan_days'] * pd.offsets.Day()\n",
    "df_train_trans.loc[con & not_0_plan_days, 'mem_expire_date'] = df_train_trans.loc[con & not_0_plan_days, 'trans_date'] + \\\n",
    "                                                                df_train_trans.loc[con & not_0_plan_days, 'payment_plan_days'] * pd.Timedelta('1 days')\n",
    "\n",
    "# if actual_amount_paid = {100,119,129,149} \n",
    "#      expire = trans + 30 days\n",
    "con = (df_train_trans.payment_plan_days == 0) & (df_train_trans.membership_int > 450)\n",
    "paid_30_days = df_train_trans.actual_amount_paid.isin([100,119,129,149])\n",
    "# df_train_trans.loc[con & paid_30_days , 'mem_expire_date'] = \\\n",
    "# df_train_trans.loc[con & paid_30_days, 'trans_date'] + pd.DateOffset(days=30)\n",
    "df_train_trans.loc[con & paid_30_days , 'mem_expire_date'] = \\\n",
    "df_train_trans.loc[con & paid_30_days, 'trans_date'] + pd.Timedelta('30 days')\n",
    "\n",
    "# if actual_amount_paid = {1599,1788} \n",
    "#      expire = trans + 400 days\n",
    "paid_400_days = df_train_trans.actual_amount_paid.isin([1599,1788])\n",
    "# df_train_trans.loc[con & paid_400_days , 'mem_expire_date'] = \\\n",
    "# df_train_trans.loc[con & paid_400_days, 'trans_date'] + pd.DateOffset(days=400)\n",
    "df_train_trans.loc[con & paid_400_days , 'mem_expire_date'] = \\\n",
    "df_train_trans.loc[con & paid_400_days, 'trans_date'] + pd.Timedelta('400 days')"
   ]
  },
  {
   "cell_type": "markdown",
   "id": "126cbf24-2eaa-4c39-8570-976308c0f198",
   "metadata": {
    "jp-MarkdownHeadingCollapsed": true
   },
   "source": [
    "### is_cancel = 1 && membership_int < -30 (訓練資料)"
   ]
  },
  {
   "cell_type": "markdown",
   "id": "aa815365-7589-45aa-9024-e7c47ebcfc78",
   "metadata": {},
   "source": [
    "調整expire\n",
    "\n",
    "if (is_cancel = 1 && membership_int < -30) -> expire = trans"
   ]
  },
  {
   "cell_type": "code",
   "execution_count": 35,
   "id": "31d63834-c3a5-44e9-a266-f38b485d19cc",
   "metadata": {},
   "outputs": [],
   "source": [
    "con = ((df_train_trans.membership_int.between(min_date, -30)) & (df_train_trans.is_cancel == 1))\n",
    "df_train_trans.loc[con, 'mem_expire_date'] = df_train_trans.loc[con, 'trans_date']"
   ]
  },
  {
   "cell_type": "markdown",
   "id": "6137c249-251e-4d8b-b253-0043fa5254b3",
   "metadata": {
    "jp-MarkdownHeadingCollapsed": true
   },
   "source": [
    "### is_cancel = 1 && membership_int > 450 (訓練資料)"
   ]
  },
  {
   "cell_type": "markdown",
   "id": "6ad2269e-7582-4f29-a99c-dac2f9699f0a",
   "metadata": {},
   "source": [
    "調整expire\n",
    "\n",
    "if (is_cancel = 1 && membership_int > 450) -> expire = trans"
   ]
  },
  {
   "cell_type": "code",
   "execution_count": 36,
   "id": "9bfef0cc-3d4c-4308-bcd2-b0fa303d031f",
   "metadata": {},
   "outputs": [],
   "source": [
    "con = ((df_train_trans.membership_int.between(450, max_date)) & (df_train_trans.is_cancel == 1))\n",
    "df_train_trans.loc[con, 'mem_expire_date'] = df_train_trans.loc[con, 'trans_date']"
   ]
  },
  {
   "cell_type": "markdown",
   "id": "e2e8ad19-3d60-4ad1-9bc3-f1a9c95f5222",
   "metadata": {
    "jp-MarkdownHeadingCollapsed": true
   },
   "source": [
    "### 調整到期日expire (測試資料)"
   ]
  },
  {
   "cell_type": "code",
   "execution_count": 37,
   "id": "cfcba0a4-4f13-471c-a38d-d0740cab42e9",
   "metadata": {},
   "outputs": [],
   "source": [
    "# if (is_cancel = 0 && membership_int < -30 && payment_plan_days != 0)\n",
    "#      expire = trans + payment_plan_days\n",
    "con = ((df_sub_trans.membership_int.between(min_date,-30)) & (df_sub_trans.is_cancel == 0))\n",
    "not_0_plan_days = ~ (df_sub_trans.payment_plan_days.isin([0]))\n",
    "# df_sub_trans.loc[con & not_0_plan_days, 'mem_expire_date'] = df_sub_trans.loc[con & not_0_plan_days, 'trans_date'] + \\\n",
    "#                                                                 df_sub_trans.loc[con & not_0_plan_days, 'payment_plan_days'] * pd.offsets.Day()\n",
    "df_sub_trans.loc[con & not_0_plan_days, 'mem_expire_date'] = df_sub_trans.loc[con & not_0_plan_days, 'trans_date'] + \\\n",
    "                                                                df_sub_trans.loc[con & not_0_plan_days, 'payment_plan_days'] * pd.Timedelta('1 days')\n",
    "\n",
    "# if (is_cancel = 0 && membership_int < -30 && payment_plan_days = 0)\n",
    "#      expire = trans + 30\n",
    "are_0_plan_days = df_sub_trans.payment_plan_days.isin([0])\n",
    "# df_sub_trans.loc[con & are_0_plan_days, 'mem_expire_date'] = df_sub_trans.loc[con & are_0_plan_days, 'trans_date'] + pd.DateOffset(days=30)\n",
    "df_sub_trans.loc[con & are_0_plan_days, 'mem_expire_date'] = df_sub_trans.loc[con & are_0_plan_days, 'trans_date'] + pd.Timedelta('30 days')"
   ]
  },
  {
   "cell_type": "code",
   "execution_count": 38,
   "id": "2e066ee8-eb6e-4983-8818-e337af9ba826",
   "metadata": {},
   "outputs": [],
   "source": [
    "# if (is_cancel = 0 && membership_int > 450 && payment_plan_days != 0) \n",
    "#      expire = trans + payment_plan_days\n",
    "max_date = df_sub_trans.membership_int.max()\n",
    "con = ((df_sub_trans.membership_int.between(450,max_date)) & (df_sub_trans.is_cancel == 0))\n",
    "not_0_plan_days = ~ (df_sub_trans.payment_plan_days.isin([0]))\n",
    "# df_sub_trans.loc[con & not_0_plan_days, 'mem_expire_date'] = df_sub_trans.loc[con & not_0_plan_days, 'trans_date'] + \\\n",
    "#                                                                 df_sub_trans.loc[con & not_0_plan_days, 'payment_plan_days'] * pd.offsets.Day()\n",
    "df_sub_trans.loc[con & not_0_plan_days, 'mem_expire_date'] = df_sub_trans.loc[con & not_0_plan_days, 'trans_date'] + \\\n",
    "                                                                df_sub_trans.loc[con & not_0_plan_days, 'payment_plan_days'] * pd.Timedelta('1 days')\n",
    "\n",
    "# if actual_amount_paid = {100,119,129,149} \n",
    "#      expire = trans + 30 days\n",
    "con = (df_sub_trans.payment_plan_days == 0) & (df_sub_trans.membership_int > 450)\n",
    "paid_30_days = df_sub_trans.actual_amount_paid.isin([100,119,129,149])\n",
    "# df_sub_trans.loc[con & paid_30_days , 'mem_expire_date'] = \\\n",
    "# df_sub_trans.loc[con & paid_30_days, 'trans_date'] + pd.DateOffset(days=30)\n",
    "df_sub_trans.loc[con & paid_30_days , 'mem_expire_date'] = \\\n",
    "df_sub_trans.loc[con & paid_30_days, 'trans_date'] + pd.Timedelta('30 days')\n",
    "\n",
    "# if actual_amount_paid = {1599,1788} \n",
    "#      expire = trans + 400 days\n",
    "paid_400_days = df_sub_trans.actual_amount_paid.isin([1599])\n",
    "# df_sub_trans.loc[con & paid_400_days , 'mem_expire_date'] = \\\n",
    "# df_sub_trans.loc[con & paid_400_days, 'trans_date'] + pd.DateOffset(days=400)\n",
    "df_sub_trans.loc[con & paid_400_days , 'mem_expire_date'] = \\\n",
    "df_sub_trans.loc[con & paid_400_days, 'trans_date'] + pd.Timedelta('400 days')"
   ]
  },
  {
   "cell_type": "code",
   "execution_count": 39,
   "id": "d4e7b740-f129-4291-8a48-db9e021f0ac1",
   "metadata": {},
   "outputs": [],
   "source": [
    "con = ((df_sub_trans.membership_int.between(min_date, -30)) & (df_sub_trans.is_cancel == 1))\n",
    "df_sub_trans.loc[con, 'mem_expire_date'] = df_sub_trans.loc[con, 'trans_date']"
   ]
  },
  {
   "cell_type": "code",
   "execution_count": 40,
   "id": "3be24a92-279c-420b-8bde-4cbe11014e5b",
   "metadata": {},
   "outputs": [],
   "source": [
    "con = ((df_sub_trans.membership_int.between(450, max_date)) & (df_sub_trans.is_cancel == 1))\n",
    "df_sub_trans.loc[con, 'mem_expire_date'] = df_sub_trans.loc[con, 'trans_date']"
   ]
  },
  {
   "cell_type": "markdown",
   "id": "61e25991-016b-43c1-9a4e-fcada37f9889",
   "metadata": {
    "jp-MarkdownHeadingCollapsed": true
   },
   "source": [
    "### Data leakage problem"
   ]
  },
  {
   "cell_type": "code",
   "execution_count": 41,
   "id": "52ebd7e5-9ca1-4d78-8af5-24c2f40dfc6b",
   "metadata": {},
   "outputs": [
    {
     "name": "stdout",
     "output_type": "stream",
     "text": [
      "(853747, 11)\n",
      "(0, 11)\n"
     ]
    }
   ],
   "source": [
    "print(df_train_trans[df_train_trans.trans_date > np.datetime64('2017-03-01')].shape)\n",
    "print(df_sub_trans[df_sub_trans.trans_date > np.datetime64('2017-04-01')].shape)"
   ]
  },
  {
   "cell_type": "markdown",
   "id": "e0c6806c-c6cb-4be7-80f9-2da165bebcb2",
   "metadata": {},
   "source": [
    "我們訓練集中是要預測3月是否流失，因此我們不能使用3月的交易數據，否則就是數據洩漏了(Data leakage)。我們觀察到3月的交易數據共有853,747筆，這些需要丟棄，而測試集則沒有"
   ]
  },
  {
   "cell_type": "code",
   "execution_count": 42,
   "id": "75462183-566a-40f4-bef6-34954f2a74fc",
   "metadata": {},
   "outputs": [
    {
     "name": "stdout",
     "output_type": "stream",
     "text": [
      "<class 'pandas.core.frame.DataFrame'>\n",
      "Index: 13769249 entries, 2044338 to 13031186\n",
      "Data columns (total 11 columns):\n",
      " #   Column              Dtype         \n",
      "---  ------              -----         \n",
      " 0   msno                category      \n",
      " 1   is_churn            int8          \n",
      " 2   payment_method_id   int8          \n",
      " 3   payment_plan_days   int16         \n",
      " 4   plan_list_price     int16         \n",
      " 5   actual_amount_paid  int16         \n",
      " 6   is_auto_renew       int8          \n",
      " 7   trans_date          datetime64[ns]\n",
      " 8   mem_expire_date     datetime64[ns]\n",
      " 9   is_cancel           int8          \n",
      " 10  membership_int      int64         \n",
      "dtypes: category(1), datetime64[ns](2), int16(3), int64(1), int8(4)\n",
      "memory usage: 643.1 MB\n"
     ]
    }
   ],
   "source": [
    "df_train_trans = df_train_trans[ ~ (  df_train_trans.trans_date > np.datetime64('2017-03-01')  ) ]\n",
    "df_train_trans.info()"
   ]
  },
  {
   "cell_type": "markdown",
   "id": "70099451-06f2-44d5-82a7-e667ee05f1a2",
   "metadata": {
    "jp-MarkdownHeadingCollapsed": true
   },
   "source": [
    "### check 非連續使用的使用者(last_last_churn = 1)"
   ]
  },
  {
   "cell_type": "code",
   "execution_count": 43,
   "id": "b46bff68-f72a-420c-b397-7175e17d09ce",
   "metadata": {},
   "outputs": [],
   "source": [
    "def ll_churn(df):\n",
    "\n",
    "  # 首先，對數據進行排序，按照 'msno' 和 'trans_date' 欄位\n",
    "  df = df.sort_values(by=['msno','trans_date'],ascending=True)\n",
    "\n",
    "  # 即下一次交易的日期減去當前交易的會員到期日期\n",
    "  df['next_trans_after'] = df['trans_date'].shift(-1) - df['mem_expire_date']\n",
    "\n",
    "  # 判斷每行是否屬於同一個用戶（即 'msno' 是否相同）\n",
    "  df['the_same_user'] = df['msno'] == df['msno'].shift(-1)\n",
    "\n",
    "  # 使用閾值來判斷是否存在流失情況。如果下一次交易之後的時間間隔超過30天且是同一個用戶\n",
    "  # 則將 'churn_record' 標記為1（表示可能的流失），否則標記為0\n",
    "  df['churn_record'] = (df['next_trans_after'] > pd.Timedelta('30 days')) & (df['the_same_user'] == True)\n",
    "  # 將 'churn_record' 列中的布爾值轉換為數字（0或1） \n",
    "  df['churn_record'] = df['churn_record']*1\n",
    "  \n",
    "  # 對數據進行排序，這次是按 'msno' 和 'mem_expire_date' 欄位進行降序排序\n",
    "  df = df.sort_values(by=['msno','mem_expire_date'],ascending=False)\n",
    "\n",
    "  # 從每個用戶的最後兩次交易中選取第二次交易，並提取出其中的 'churn_record' 列作為最後一次流失的記錄\n",
    "  ft = df.groupby(by=['msno'],as_index=False).nth(1)[['msno','churn_record']]\n",
    "  ft = ft.rename(columns={'churn_record':'last_last_churn'})\n",
    "  \n",
    "  return ft"
   ]
  },
  {
   "cell_type": "code",
   "execution_count": 44,
   "id": "2f93c141-ef35-4cef-a3cf-5579506ce339",
   "metadata": {},
   "outputs": [
    {
     "name": "stdout",
     "output_type": "stream",
     "text": [
      "______________________________ traning set ______________________________\n",
      "\n",
      "last_last_churn\n",
      "0.000     839069\n",
      "-1.000     36788\n",
      "1.000      10643\n",
      "Name: count, dtype: int64\n",
      "______________________________ testing set ______________________________\n",
      "\n",
      "last_last_churn\n",
      "0.000     785585\n",
      "-1.000    117405\n",
      "1.000       4481\n",
      "Name: count, dtype: int64\n"
     ]
    }
   ],
   "source": [
    "# get features\n",
    "ft_last_last_churn_train = ll_churn(df_train_trans)\n",
    "ft_last_last_churn_sub = ll_churn(df_sub_trans)\n",
    "\n",
    "# merge\n",
    "df_train = pd.merge(df_train,ft_last_last_churn_train,how='left',on=['msno']);\n",
    "df_sub = pd.merge(df_sub,ft_last_last_churn_train,how='left',on=['msno']);\n",
    "\n",
    "# only one trans_record does not have last_last_churn information\n",
    "df_train.last_last_churn = df_train.last_last_churn.fillna(-1)\n",
    "df_sub.last_last_churn = df_sub.last_last_churn.fillna(-1)\n",
    "print('_'*30, 'traning set', '_'*30)\n",
    "print(''*60)\n",
    "print(df_train.last_last_churn.value_counts())\n",
    "print('_'*30, 'testing set', '_'*30)\n",
    "print(''*60)\n",
    "print(df_sub.last_last_churn.value_counts())"
   ]
  },
  {
   "cell_type": "markdown",
   "id": "663942f4-bab6-4210-8066-638cf4b7baa6",
   "metadata": {},
   "source": [
    "我們可以看到非連續訂閱的使用者事實上並不多，而測試集的非連續訂閱使用者又更少，其中-1為缺失值，這裡的缺失值是我們創建特徵的過程產生的，並非原本資料庫缺失，然而在創建這個特徵時哪裡會產生缺失值呢?"
   ]
  },
  {
   "cell_type": "markdown",
   "id": "82f0e26b-aeab-461a-89ff-2713adcf4e33",
   "metadata": {},
   "source": [
    "沒有上一筆資料的使用者"
   ]
  },
  {
   "cell_type": "markdown",
   "id": "4b5af943-4300-45e3-963f-58deb02eea4c",
   "metadata": {},
   "source": [
    "沒有上一筆資料的使用者當然就沒有連續訂閱的紀錄，也就是說，這個特徵還碰巧定義出了新使用者(僅有一次訂閱紀錄)"
   ]
  },
  {
   "cell_type": "code",
   "execution_count": 85,
   "id": "c0a6ec01-dcf4-4344-8fdd-4f811d344970",
   "metadata": {},
   "outputs": [
    {
     "data": {
      "text/plain": [
       "<matplotlib.lines.Line2D at 0x7f1ff77fb880>"
      ]
     },
     "execution_count": 85,
     "metadata": {},
     "output_type": "execute_result"
    },
    {
     "data": {
      "image/png": "[encoded data removed]",
      "text/plain": [
       "<Figure size 1200x800 with 1 Axes>"
      ]
     },
     "metadata": {},
     "output_type": "display_data"
    }
   ],
   "source": [
    "result_ll_churn = df_train.groupby([\"last_last_churn\"])['is_churn'].mean().reset_index().sort_values('is_churn')\n",
    "fig, ax = plt.subplots(figsize=(12,8))\n",
    "sns.barplot(x='last_last_churn', y='is_churn', data=df_train,ax=ax,order=result_ll_churn['last_last_churn'])\n",
    "ax.axhline(0.049,linestyle='dashed', c='black',alpha = .3)"
   ]
  },
  {
   "cell_type": "markdown",
   "id": "39f7f389-8e04-41b7-93b0-a5d03f144da8",
   "metadata": {},
   "source": [
    "橫軸為last_last_churn(表示上上次是否流失，0表示為連續訂閱的使用者，-1表示為新使用者，1表示為非連續訂閱的使用者，縱軸為流失率，黑線為95%信賴區間。)"
   ]
  },
  {
   "cell_type": "markdown",
   "id": "ca28c32d-e44f-4e0f-8a28-911024737219",
   "metadata": {
    "jp-MarkdownHeadingCollapsed": true
   },
   "source": [
    "### Testing Model: xgb(0.154)"
   ]
  },
  {
   "cell_type": "code",
   "execution_count": 45,
   "id": "ebb0b69d-d0e7-4e49-987c-1dcb2dc02f2a",
   "metadata": {},
   "outputs": [
    {
     "name": "stdout",
     "output_type": "stream",
     "text": [
      "Index(['msno', 'is_churn', 'six_month_day_listen', 'six_month_satis', 'city',\n",
      "       'bd', 'gender', 'registered_via', 'registration_init_time',\n",
      "       'age_under_26', 'last_last_churn'],\n",
      "      dtype='object')\n",
      "Index(['msno', 'is_churn', 'six_month_day_listen', 'six_month_satis', 'city',\n",
      "       'bd', 'gender', 'registered_via', 'registration_init_time',\n",
      "       'age_under_26', 'last_last_churn'],\n",
      "      dtype='object')\n"
     ]
    }
   ],
   "source": [
    "print(df_train.columns)\n",
    "print(df_sub.columns)\n",
    "ll_churn_fts = age_fts + ['last_last_churn']\n",
    "exclude_list = ['msno','is_churn']"
   ]
  },
  {
   "cell_type": "code",
   "execution_count": 46,
   "id": "138f62c9-44d6-433e-bbc3-967e05aaefb2",
   "metadata": {},
   "outputs": [
    {
     "name": "stdout",
     "output_type": "stream",
     "text": [
      "training using features: \n",
      " ['six_month_day_listen', 'six_month_satis', 'registered_via', 'age_under_26', 'last_last_churn']\n",
      "[0]\tvalidation_0-logloss:0.23212\tvalidation_1-logloss:0.23179\n",
      "[70]\tvalidation_0-logloss:0.15439\tvalidation_1-logloss:0.15486\n",
      "[140]\tvalidation_0-logloss:0.15393\tvalidation_1-logloss:0.15469\n",
      "[179]\tvalidation_0-logloss:0.15379\tvalidation_1-logloss:0.15471\n",
      "0.15467780469900227\n"
     ]
    }
   ],
   "source": [
    "print('training using features: \\n' ,[fts for fts in ll_churn_fts if fts not in exclude_list])\n",
    "ll_churn_model_xgb, ll_churn_val_score_xgb,\\\n",
    "ll_churn_pred_xgb = model_training_xgb(df_train[ll_churn_fts],df_sub[ll_churn_fts])\n",
    "print(ll_churn_val_score_xgb)"
   ]
  },
  {
   "cell_type": "markdown",
   "id": "c4d18e04-394e-4967-8eac-38f31d4727cf",
   "metadata": {
    "jp-MarkdownHeadingCollapsed": true
   },
   "source": [
    "### Trans_times and client_level_code"
   ]
  },
  {
   "cell_type": "markdown",
   "id": "2d332826-a342-4a70-bec8-4bb0f8b7f0ab",
   "metadata": {},
   "source": [
    "在交易記錄的資料集中我們有每一個使用者的交易紀錄，我們可以經由交易次數大略推估使用者對這個訂閱服務的喜好程度，這有助於我們辨別持續使用者的流失情況以及分群"
   ]
  },
  {
   "cell_type": "code",
   "execution_count": 47,
   "id": "5c278592-29de-437d-b9ef-676a6dc0c80e",
   "metadata": {},
   "outputs": [],
   "source": [
    "# 交易次數 -> 喜好程度\n",
    "ft_trans_times_train = df_train_trans[['msno','trans_date']].groupby(by=['msno'],as_index=False).count().\\\n",
    "rename(columns={'trans_date':'trans_times'});\n",
    "ft_trans_times_sub = df_sub_trans[['msno','trans_date']].groupby(by=['msno'],as_index=False).count().\\\n",
    "rename(columns={'trans_date':'trans_times'});"
   ]
  },
  {
   "cell_type": "code",
   "execution_count": 48,
   "id": "dcd72ba1-0039-4229-9269-624d60176f08",
   "metadata": {},
   "outputs": [],
   "source": [
    "df_train = pd.merge(df_train, ft_trans_times_train, how='left', on=['msno'])\n",
    "df_sub = pd.merge(df_sub, ft_trans_times_sub,how='left', on=['msno'])"
   ]
  },
  {
   "cell_type": "code",
   "execution_count": 49,
   "id": "4b135dae-8b32-4433-acf3-aa9c2cf124ad",
   "metadata": {},
   "outputs": [],
   "source": [
    "df_data = pd.concat([df_train, df_sub], axis=0)"
   ]
  },
  {
   "cell_type": "code",
   "execution_count": 50,
   "id": "eacab13e-3c71-4041-a32a-bca66ffa96e0",
   "metadata": {},
   "outputs": [
    {
     "data": {
      "image/png": "[encoded data removed]",
      "text/plain": [
       "<Figure size 2500x1000 with 2 Axes>"
      ]
     },
     "metadata": {},
     "output_type": "display_data"
    }
   ],
   "source": [
    "sns.set(font_scale=1.56)\n",
    "# create fig and ax \n",
    "with sns.axes_style('white'):\n",
    "\n",
    "  fig, [ax1, ax2] = plt.subplots(1,2, figsize=(25,10))\n",
    "    \n",
    "  sns.distplot(df_data.loc[(df_data.is_churn == 0), 'trans_times'],kde=False, label='NOT_churn',ax=ax1,norm_hist=True)\n",
    "  sns.distplot(df_data.loc[(df_data.is_churn == 1), 'trans_times'],kde=False, label='churn',ax=ax1,norm_hist=True)\n",
    "  ax1.legend()\n",
    "  ax1.set_yscale('log')\n",
    "\n",
    "  # feature enineering\n",
    "  # New, Trying, OneYear, TwoYear, Stable\n",
    "  max_trans = df_data.trans_times.max()\n",
    "  bins = [0,1,6,12,24,max_trans]\n",
    "\n",
    "  # period = nodes - 1 --> labels = np.arange(len( bins) -1 )\n",
    "  df_data['client_level_code'] = pd.cut(df_data.trans_times, bins, labels= np.arange( len( bins) - 1 ) )\n",
    "  df_data['client_level_code'] = df_data['client_level_code'].astype('int8')\n",
    "\n",
    "  # prepare table (% of each value)\n",
    "  df_percent = pd.DataFrame( df_data['client_level_code'].value_counts().sort_index() / len(df_data) ).round(3) \n",
    "  # barplot of churn rate\n",
    "  sns.barplot(x='client_level_code',y='is_churn',data=df_data,ax=ax2)\n",
    "  ax2.axhline(0.049,linestyle='dashed', c='black',alpha = .3)\n",
    "  table(ax2, df_percent,bbox=[0.80, 0.72, 0.2, 0.27])"
   ]
  },
  {
   "cell_type": "markdown",
   "id": "439ecd82-0c22-4885-b21d-cff39a9cd01e",
   "metadata": {},
   "source": [
    "按照交易紀錄次數分組，這裡取1(新使用者，1-6次，6-12次，12-24次，24次以上)，可以預期越是老顧客直覺上越不會流失"
   ]
  },
  {
   "cell_type": "markdown",
   "id": "0d8bc9b7-6324-46e9-82a2-a03762b17f80",
   "metadata": {},
   "source": [
    "***這裡筆者隱含假設了每個交易紀錄是1個月，因此超過1個月的用這種方式分組就會顯得不適合，在此當作噪聲(noise)"
   ]
  },
  {
   "cell_type": "markdown",
   "id": "964eeb4c-c068-4dd9-91e1-90f38effe989",
   "metadata": {},
   "source": [
    "我們可以看到左圖在交易次數40次以上的藍色有突出的一塊，這印證了我們的直覺，老客戶們的流失率是更低的，同時也反映在右圖的第4個類別，流失率很低，低於2.5%"
   ]
  },
  {
   "cell_type": "markdown",
   "id": "73bb2e31-2f75-4e74-8eb4-11b5086f2e0d",
   "metadata": {},
   "source": [
    "右圖的類別0和上一個特徵Last_last_churn有重複解釋的部分，都表示為新使用者，也可以當作驗算，流失率為20%，接下來隨著訂閱次數的累積，使用者的流失率逐漸穩定下來，在類別3之後的流失率開始低於平均，我們亦可以依據此資料粗估，使用者在訂閱1年後，逐漸被過濾出喜歡kkbox服務的顧客"
   ]
  },
  {
   "cell_type": "markdown",
   "id": "14b8422d-2c93-47e4-a1e5-b900ba845e7f",
   "metadata": {
    "jp-MarkdownHeadingCollapsed": true
   },
   "source": [
    "### Testing Model: xgb(0.1508)"
   ]
  },
  {
   "cell_type": "code",
   "execution_count": 51,
   "id": "aaa3b6f2-0a35-4e20-b1d6-c0569e286441",
   "metadata": {},
   "outputs": [
    {
     "name": "stdout",
     "output_type": "stream",
     "text": [
      "Index(['msno', 'is_churn', 'six_month_day_listen', 'six_month_satis', 'city',\n",
      "       'bd', 'gender', 'registered_via', 'registration_init_time',\n",
      "       'age_under_26', 'last_last_churn', 'trans_times', 'client_level_code'],\n",
      "      dtype='object')\n",
      "Index(['msno', 'is_churn', 'six_month_day_listen', 'six_month_satis', 'city',\n",
      "       'bd', 'gender', 'registered_via', 'registration_init_time',\n",
      "       'age_under_26', 'last_last_churn', 'trans_times', 'client_level_code'],\n",
      "      dtype='object')\n"
     ]
    }
   ],
   "source": [
    "# split and prepare features \n",
    "df_train, df_sub = df_data[:len(df_train)], df_data[len(df_train):]\n",
    "print(df_train.columns)\n",
    "print(df_sub.columns)\n",
    "client_level_code_fts = ll_churn_fts + ['client_level_code']\n",
    "exclude_list = ['msno','is_churn']"
   ]
  },
  {
   "cell_type": "code",
   "execution_count": 52,
   "id": "e344dc3e-90a2-4533-bab6-3f3afdeb9662",
   "metadata": {},
   "outputs": [
    {
     "name": "stdout",
     "output_type": "stream",
     "text": [
      "training using features: \n",
      " ['six_month_day_listen', 'six_month_satis', 'registered_via', 'age_under_26', 'last_last_churn', 'client_level_code']\n",
      "[0]\tvalidation_0-logloss:0.23192\tvalidation_1-logloss:0.23158\n",
      "[70]\tvalidation_0-logloss:0.15111\tvalidation_1-logloss:0.15144\n",
      "[140]\tvalidation_0-logloss:0.15049\tvalidation_1-logloss:0.15111\n",
      "[210]\tvalidation_0-logloss:0.15016\tvalidation_1-logloss:0.15104\n",
      "[274]\tvalidation_0-logloss:0.14990\tvalidation_1-logloss:0.15101\n"
     ]
    },
    {
     "data": {
      "text/plain": [
       "0.15100178116935312"
      ]
     },
     "execution_count": 52,
     "metadata": {},
     "output_type": "execute_result"
    }
   ],
   "source": [
    "print('training using features: \\n' ,[fts for fts in client_level_code_fts if fts not in exclude_list])\n",
    "client_level_code_model_xgb, client_level_code_val_score_xgb,\\\n",
    "client_level_code_pred_xgb = model_training_xgb(df_train[client_level_code_fts],df_sub[client_level_code_fts])\n",
    "client_level_code_val_score_xgb"
   ]
  },
  {
   "cell_type": "markdown",
   "id": "94ff5db8-ef0e-4bf2-bdd4-fbf76f9edc02",
   "metadata": {
    "jp-MarkdownHeadingCollapsed": true
   },
   "source": [
    "### Last_auto_renew"
   ]
  },
  {
   "cell_type": "markdown",
   "id": "600529af-0b4e-4397-86ec-ad199bb69bb9",
   "metadata": {},
   "source": [
    "是否自動更新這個特徵筆者認為某種程度顯示了使用者的經濟情況以及對商品的愛好度，畢竟一個不算充裕或是沒有很喜歡產品的使用者在發現了商品會自動延續訂閱這件事之後多半會覺得是不是想要坑消費者，進而取消自動更新"
   ]
  },
  {
   "cell_type": "markdown",
   "id": "718d5cb8-6103-435c-b404-4dfd9810025c",
   "metadata": {},
   "source": [
    "針對這個特徵我們以使用者為單位，來看看每一位使用者所有交易紀錄中，自動更新的比率:"
   ]
  },
  {
   "cell_type": "code",
   "execution_count": 53,
   "id": "9d1cc011-8f1f-4b24-8ff1-3a39e9f0bf4d",
   "metadata": {},
   "outputs": [],
   "source": [
    "# 對數據按照 'msno' 和 'mem_expire_date' 欄位進行排序，其中 'msno' 欄位降序排序，'mem_expire_date' 欄位升序排序\n",
    "# 對數據進行分組，根據 'msno' 欄位，並對 'is_auto_renew' 列進行累加求和，得到每個用戶截止到目前為止的自動續訂次數，這一步使用了 groupby.cumsum() 函數\n",
    "df_train_trans = df_train_trans.sort_values(by=['msno'],ascending=False).sort_values(by=['mem_expire_date'],ascending=True)\n",
    "df_train_trans['auto_renew_so_far'] = df_train_trans.groupby(by=['msno'],as_index=False)['is_auto_renew'].cumsum()\n",
    "\n",
    "# 驗證(用另一種函數) \n",
    "# 對數據按照 'msno' 和 'mem_expire_date' 欄位進行排序，其中 'msno' 和 'mem_expire_date' 欄位都降序排序\n",
    "# 對數據進行分組，根據 'msno' 欄位，並對 'is_auto_renew' 列進行累加計數，得到每個用戶截止到目前為止的交易次數。在這一步中，使用了 groupby.cumcount() 函數，並將結果加1\n",
    "df_train_trans.sort_values(by=['msno','mem_expire_date'],ascending=False,inplace=True);\n",
    "# since cumcount start at 0, we plus one for adjusting\n",
    "df_train_trans['trans_times_so_far'] = df_train_trans.groupby(by=['msno'],as_index=False)['is_auto_renew'].cumcount(ascending=False) + 1\n",
    "\n",
    "# get result\n",
    "agg_result = df_train_trans.groupby(by=['msno'],as_index=False).head(1)"
   ]
  },
  {
   "cell_type": "code",
   "execution_count": 95,
   "id": "6e068f8d-d3d9-402b-a094-61b91750ba13",
   "metadata": {},
   "outputs": [
    {
     "name": "stderr",
     "output_type": "stream",
     "text": [
      "/tmp/ipykernel_696/3730065390.py:1: SettingWithCopyWarning: \n",
      "A value is trying to be set on a copy of a slice from a DataFrame.\n",
      "Try using .loc[row_indexer,col_indexer] = value instead\n",
      "\n",
      "See the caveats in the documentation: https://pandas.pydata.org/pandas-docs/stable/user_guide/indexing.html#returning-a-view-versus-a-copy\n",
      "  agg_result['ratio_auto_renew'] = agg_result['auto_renew_so_far'] / agg_result['trans_times_so_far']\n"
     ]
    },
    {
     "ename": "ValueError",
     "evalue": "'squareroot' is not a valid value for scale; supported values are 'linear', 'log', 'symlog', 'asinh', 'logit', 'function', 'functionlog'",
     "output_type": "error",
     "traceback": [
      "\u001b[0;31m---------------------------------------------------------------------------\u001b[0m",
      "\u001b[0;31mValueError\u001b[0m                                Traceback (most recent call last)",
      "Cell \u001b[0;32mIn[95], line 5\u001b[0m\n\u001b[1;32m      3\u001b[0m fig, ax \u001b[38;5;241m=\u001b[39m plt\u001b[38;5;241m.\u001b[39msubplots(figsize\u001b[38;5;241m=\u001b[39m(\u001b[38;5;241m20\u001b[39m,\u001b[38;5;241m12\u001b[39m))\n\u001b[1;32m      4\u001b[0m sns\u001b[38;5;241m.\u001b[39mdistplot(agg_result\u001b[38;5;241m.\u001b[39mratio_auto_renew,kde\u001b[38;5;241m=\u001b[39m\u001b[38;5;28;01mFalse\u001b[39;00m,ax\u001b[38;5;241m=\u001b[39max)\n\u001b[0;32m----> 5\u001b[0m \u001b[43max\u001b[49m\u001b[38;5;241;43m.\u001b[39;49m\u001b[43mset_yscale\u001b[49m\u001b[43m(\u001b[49m\u001b[38;5;124;43m'\u001b[39;49m\u001b[38;5;124;43msquareroot\u001b[39;49m\u001b[38;5;124;43m'\u001b[39;49m\u001b[43m)\u001b[49m\n",
      "File \u001b[0;32m/opt/conda/lib/python3.10/site-packages/matplotlib/axes/_base.py:74\u001b[0m, in \u001b[0;36m_axis_method_wrapper.__set_name__.<locals>.wrapper\u001b[0;34m(self, *args, **kwargs)\u001b[0m\n\u001b[1;32m     73\u001b[0m \u001b[38;5;28;01mdef\u001b[39;00m \u001b[38;5;21mwrapper\u001b[39m(\u001b[38;5;28mself\u001b[39m, \u001b[38;5;241m*\u001b[39margs, \u001b[38;5;241m*\u001b[39m\u001b[38;5;241m*\u001b[39mkwargs):\n\u001b[0;32m---> 74\u001b[0m     \u001b[38;5;28;01mreturn\u001b[39;00m \u001b[43mget_method\u001b[49m\u001b[43m(\u001b[49m\u001b[38;5;28;43mself\u001b[39;49m\u001b[43m)\u001b[49m\u001b[43m(\u001b[49m\u001b[38;5;241;43m*\u001b[39;49m\u001b[43margs\u001b[49m\u001b[43m,\u001b[49m\u001b[43m \u001b[49m\u001b[38;5;241;43m*\u001b[39;49m\u001b[38;5;241;43m*\u001b[39;49m\u001b[43mkwargs\u001b[49m\u001b[43m)\u001b[49m\n",
      "File \u001b[0;32m/opt/conda/lib/python3.10/site-packages/matplotlib/axis.py:822\u001b[0m, in \u001b[0;36mAxis._set_axes_scale\u001b[0;34m(self, value, **kwargs)\u001b[0m\n\u001b[1;32m    820\u001b[0m g \u001b[38;5;241m=\u001b[39m \u001b[38;5;28mself\u001b[39m\u001b[38;5;241m.\u001b[39maxes\u001b[38;5;241m.\u001b[39m_shared_axes[name]\n\u001b[1;32m    821\u001b[0m \u001b[38;5;28;01mfor\u001b[39;00m ax \u001b[38;5;129;01min\u001b[39;00m g\u001b[38;5;241m.\u001b[39mget_siblings(\u001b[38;5;28mself\u001b[39m\u001b[38;5;241m.\u001b[39maxes):\n\u001b[0;32m--> 822\u001b[0m     \u001b[43max\u001b[49m\u001b[38;5;241;43m.\u001b[39;49m\u001b[43m_axis_map\u001b[49m\u001b[43m[\u001b[49m\u001b[43mname\u001b[49m\u001b[43m]\u001b[49m\u001b[38;5;241;43m.\u001b[39;49m\u001b[43m_set_scale\u001b[49m\u001b[43m(\u001b[49m\u001b[43mvalue\u001b[49m\u001b[43m,\u001b[49m\u001b[43m \u001b[49m\u001b[38;5;241;43m*\u001b[39;49m\u001b[38;5;241;43m*\u001b[39;49m\u001b[43mkwargs\u001b[49m\u001b[43m)\u001b[49m\n\u001b[1;32m    823\u001b[0m     ax\u001b[38;5;241m.\u001b[39m_update_transScale()\n\u001b[1;32m    824\u001b[0m     ax\u001b[38;5;241m.\u001b[39mstale \u001b[38;5;241m=\u001b[39m \u001b[38;5;28;01mTrue\u001b[39;00m\n",
      "File \u001b[0;32m/opt/conda/lib/python3.10/site-packages/matplotlib/axis.py:779\u001b[0m, in \u001b[0;36mAxis._set_scale\u001b[0;34m(self, value, **kwargs)\u001b[0m\n\u001b[1;32m    777\u001b[0m \u001b[38;5;28;01mdef\u001b[39;00m \u001b[38;5;21m_set_scale\u001b[39m(\u001b[38;5;28mself\u001b[39m, value, \u001b[38;5;241m*\u001b[39m\u001b[38;5;241m*\u001b[39mkwargs):\n\u001b[1;32m    778\u001b[0m     \u001b[38;5;28;01mif\u001b[39;00m \u001b[38;5;129;01mnot\u001b[39;00m \u001b[38;5;28misinstance\u001b[39m(value, mscale\u001b[38;5;241m.\u001b[39mScaleBase):\n\u001b[0;32m--> 779\u001b[0m         \u001b[38;5;28mself\u001b[39m\u001b[38;5;241m.\u001b[39m_scale \u001b[38;5;241m=\u001b[39m \u001b[43mmscale\u001b[49m\u001b[38;5;241;43m.\u001b[39;49m\u001b[43mscale_factory\u001b[49m\u001b[43m(\u001b[49m\u001b[43mvalue\u001b[49m\u001b[43m,\u001b[49m\u001b[43m \u001b[49m\u001b[38;5;28;43mself\u001b[39;49m\u001b[43m,\u001b[49m\u001b[43m \u001b[49m\u001b[38;5;241;43m*\u001b[39;49m\u001b[38;5;241;43m*\u001b[39;49m\u001b[43mkwargs\u001b[49m\u001b[43m)\u001b[49m\n\u001b[1;32m    780\u001b[0m     \u001b[38;5;28;01melse\u001b[39;00m:\n\u001b[1;32m    781\u001b[0m         \u001b[38;5;28mself\u001b[39m\u001b[38;5;241m.\u001b[39m_scale \u001b[38;5;241m=\u001b[39m value\n",
      "File \u001b[0;32m/opt/conda/lib/python3.10/site-packages/matplotlib/scale.py:708\u001b[0m, in \u001b[0;36mscale_factory\u001b[0;34m(scale, axis, **kwargs)\u001b[0m\n\u001b[1;32m    699\u001b[0m \u001b[38;5;28;01mdef\u001b[39;00m \u001b[38;5;21mscale_factory\u001b[39m(scale, axis, \u001b[38;5;241m*\u001b[39m\u001b[38;5;241m*\u001b[39mkwargs):\n\u001b[1;32m    700\u001b[0m \u001b[38;5;250m    \u001b[39m\u001b[38;5;124;03m\"\"\"\u001b[39;00m\n\u001b[1;32m    701\u001b[0m \u001b[38;5;124;03m    Return a scale class by name.\u001b[39;00m\n\u001b[1;32m    702\u001b[0m \n\u001b[0;32m   (...)\u001b[0m\n\u001b[1;32m    706\u001b[0m \u001b[38;5;124;03m    axis : `~matplotlib.axis.Axis`\u001b[39;00m\n\u001b[1;32m    707\u001b[0m \u001b[38;5;124;03m    \"\"\"\u001b[39;00m\n\u001b[0;32m--> 708\u001b[0m     scale_cls \u001b[38;5;241m=\u001b[39m \u001b[43m_api\u001b[49m\u001b[38;5;241;43m.\u001b[39;49m\u001b[43mcheck_getitem\u001b[49m\u001b[43m(\u001b[49m\u001b[43m_scale_mapping\u001b[49m\u001b[43m,\u001b[49m\u001b[43m \u001b[49m\u001b[43mscale\u001b[49m\u001b[38;5;241;43m=\u001b[39;49m\u001b[43mscale\u001b[49m\u001b[43m)\u001b[49m\n\u001b[1;32m    709\u001b[0m     \u001b[38;5;28;01mreturn\u001b[39;00m scale_cls(axis, \u001b[38;5;241m*\u001b[39m\u001b[38;5;241m*\u001b[39mkwargs)\n",
      "File \u001b[0;32m/opt/conda/lib/python3.10/site-packages/matplotlib/_api/__init__.py:192\u001b[0m, in \u001b[0;36mcheck_getitem\u001b[0;34m(_mapping, **kwargs)\u001b[0m\n\u001b[1;32m    190\u001b[0m     \u001b[38;5;28;01mreturn\u001b[39;00m mapping[v]\n\u001b[1;32m    191\u001b[0m \u001b[38;5;28;01mexcept\u001b[39;00m \u001b[38;5;167;01mKeyError\u001b[39;00m:\n\u001b[0;32m--> 192\u001b[0m     \u001b[38;5;28;01mraise\u001b[39;00m \u001b[38;5;167;01mValueError\u001b[39;00m(\n\u001b[1;32m    193\u001b[0m         \u001b[38;5;124m\"\u001b[39m\u001b[38;5;132;01m{!r}\u001b[39;00m\u001b[38;5;124m is not a valid value for \u001b[39m\u001b[38;5;132;01m{}\u001b[39;00m\u001b[38;5;124m; supported values are \u001b[39m\u001b[38;5;132;01m{}\u001b[39;00m\u001b[38;5;124m\"\u001b[39m\n\u001b[1;32m    194\u001b[0m         \u001b[38;5;241m.\u001b[39mformat(v, k, \u001b[38;5;124m'\u001b[39m\u001b[38;5;124m, \u001b[39m\u001b[38;5;124m'\u001b[39m\u001b[38;5;241m.\u001b[39mjoin(\u001b[38;5;28mmap\u001b[39m(\u001b[38;5;28mrepr\u001b[39m, mapping)))) \u001b[38;5;28;01mfrom\u001b[39;00m \u001b[38;5;28;01mNone\u001b[39;00m\n",
      "\u001b[0;31mValueError\u001b[0m: 'squareroot' is not a valid value for scale; supported values are 'linear', 'log', 'symlog', 'asinh', 'logit', 'function', 'functionlog'"
     ]
    },
    {
     "data": {
      "image/png": "[encoded data removed]",
      "text/plain": [
       "<Figure size 2000x1200 with 1 Axes>"
      ]
     },
     "metadata": {},
     "output_type": "display_data"
    }
   ],
   "source": [
    "agg_result['ratio_auto_renew'] = agg_result['auto_renew_so_far'] / agg_result['trans_times_so_far']\n",
    "# show result\n",
    "fig, ax = plt.subplots(figsize=(20,12))\n",
    "sns.distplot(agg_result.ratio_auto_renew,kde=False,ax=ax)\n",
    "ax.set_yscale('squareroot')"
   ]
  },
  {
   "cell_type": "code",
   "execution_count": 96,
   "id": "346a909c-e2cc-4bbf-97a3-abad8c81a1a4",
   "metadata": {},
   "outputs": [
    {
     "name": "stdout",
     "output_type": "stream",
     "text": [
      "ratio of All auto_renew:0.808\n",
      "ratio of All manual_renew:0.109\n",
      "ratio of Mix manual&auto renew:0.084\n",
      "All_auto_renew churn_rate: 0.013\n",
      "All_manual_renew churn_rate: 0.287\n"
     ]
    }
   ],
   "source": [
    "print('ratio of All auto_renew:%.3f'%((agg_result.ratio_auto_renew == 1 ).sum() / len(agg_result)))\n",
    "print('ratio of All manual_renew:%.3f'%((agg_result.ratio_auto_renew == 0 ).sum() / len(agg_result)))\n",
    "print('ratio of Mix manual&auto renew:%.3f'%(( (agg_result.ratio_auto_renew < 1) & (agg_result.ratio_auto_renew > 0) ).sum() / len(agg_result)))\n",
    "print('All_auto_renew churn_rate: %.3f' %(agg_result.query('ratio_auto_renew == 1').is_churn.mean()) )\n",
    "print('All_manual_renew churn_rate: %.3f' %(agg_result.query('ratio_auto_renew == 0').is_churn.mean()) )"
   ]
  },
  {
   "cell_type": "markdown",
   "id": "b5bf58f5-5a74-498b-8808-99568484a9bf",
   "metadata": {},
   "source": [
    "這裡從圖我們可以發現，多數的使用者都是在兩端，意即目前都自動更新或是目前都手動更新，目前自動更新的使用者佔所有訓練集使用者的80.8%，目前都是手動更新的使用者為10.9%，有調整過的則為8.4%"
   ]
  },
  {
   "cell_type": "markdown",
   "id": "646b13fd-8a6a-40f4-9bca-c4183e5804b0",
   "metadata": {},
   "source": [
    "針對目前皆自動更新的使用者以及目前皆手動更新的使用者計算流失比率，分別為1.3%以及28.7%。這是一個相當有效的分類，並且在這個類別不平均的任務當中，算是樣本數較平均的一項!，比例達到高流失:低流失 ~ 1 : 8"
   ]
  },
  {
   "cell_type": "code",
   "execution_count": 54,
   "id": "4f435cb2-83f6-4841-a927-4dd09ff2cc1c",
   "metadata": {},
   "outputs": [
    {
     "data": {
      "image/png": "[encoded data removed]",
      "text/plain": [
       "<Figure size 1200x800 with 1 Axes>"
      ]
     },
     "metadata": {},
     "output_type": "display_data"
    }
   ],
   "source": [
    "df_train_trans = df_train_trans.sort_values(by=['msno','mem_expire_date'],ascending=False)\n",
    "df_sub_trans = df_sub_trans.sort_values(by=['msno','mem_expire_date'],ascending=False)\n",
    "ft_last_auto_renew_train = df_train_trans[['msno','is_auto_renew']].groupby(by=['msno'],as_index=False).head(1)\n",
    "ft_last_auto_renew_sub = df_sub_trans[['msno','is_auto_renew']].groupby(by=['msno'],as_index=False).head(1)\n",
    "# feature rename\n",
    "ft_last_auto_renew_train.rename(columns={'is_auto_renew':'last_auto_renew'}, inplace=True)\n",
    "ft_last_auto_renew_sub.rename(columns={'is_auto_renew':'last_auto_renew'}, inplace=True)\n",
    "# merge\n",
    "df_train = pd.merge(df_train,ft_last_auto_renew_train,how='left',on=['msno'])\n",
    "df_sub = pd.merge(df_sub,ft_last_auto_renew_sub,how='left',on=['msno'])\n",
    "# plot\n",
    "with sns.axes_style('white'):\n",
    "  fig, ax = plt.subplots(figsize= (12,8) )\n",
    "# prepare table (% of each value)\n",
    "  df_percent = pd.DataFrame( df_train['last_auto_renew'].value_counts().sort_index() / len(df_train) ).round(3) \n",
    "# barplot with percent table\n",
    "  sns.barplot(x='last_auto_renew',y='is_churn',data=df_train,ax=ax)\n",
    "  ax.axhline(0.049,linestyle='dashed', c='black',alpha = .3)\n",
    "  table(ax, df_percent,bbox=[0.80, 0.72, 0.2, 0.27])"
   ]
  },
  {
   "cell_type": "markdown",
   "id": "96d425a1-34b4-4f0c-ac1c-43a0d9d0f6a5",
   "metadata": {},
   "source": [
    "可以看到我們的抽樣結果和剛剛的觀察有一些差異 12.1% : 87.9%，這來自於忽略中間自動更新比率在0~1之間，以及隨機抽樣的結果，流失率的部分，我們發現和剛剛的觀察是差不多的，手動更新的使用者平均流失率為28%，自動更新則低於2.5%"
   ]
  },
  {
   "cell_type": "markdown",
   "id": "d1b2cb2b-e6dd-4bff-82d6-3d74ca3ea615",
   "metadata": {
    "jp-MarkdownHeadingCollapsed": true
   },
   "source": [
    "### Testing Model: xgb(0.1357)"
   ]
  },
  {
   "cell_type": "code",
   "execution_count": 55,
   "id": "8c6067a7-741b-48e7-a764-08d0d2877304",
   "metadata": {},
   "outputs": [
    {
     "name": "stdout",
     "output_type": "stream",
     "text": [
      "Index(['msno', 'is_churn', 'six_month_day_listen', 'six_month_satis', 'city',\n",
      "       'bd', 'gender', 'registered_via', 'registration_init_time',\n",
      "       'age_under_26', 'last_last_churn', 'trans_times', 'client_level_code',\n",
      "       'last_auto_renew'],\n",
      "      dtype='object')\n",
      "Index(['msno', 'is_churn', 'six_month_day_listen', 'six_month_satis', 'city',\n",
      "       'bd', 'gender', 'registered_via', 'registration_init_time',\n",
      "       'age_under_26', 'last_last_churn', 'trans_times', 'client_level_code',\n",
      "       'last_auto_renew'],\n",
      "      dtype='object')\n"
     ]
    }
   ],
   "source": [
    "# split and prepare features \n",
    "print(df_train.columns)\n",
    "print(df_sub.columns)\n",
    "last_auto_renew_fts = client_level_code_fts + ['last_auto_renew']\n",
    "exclude_list = ['msno','is_churn']"
   ]
  },
  {
   "cell_type": "code",
   "execution_count": 56,
   "id": "b3fa7aa3-38bd-4ee6-987f-08f0b2132918",
   "metadata": {},
   "outputs": [
    {
     "name": "stdout",
     "output_type": "stream",
     "text": [
      "training using features: \n",
      " ['six_month_day_listen', 'six_month_satis', 'registered_via', 'age_under_26', 'last_last_churn', 'client_level_code', 'last_auto_renew']\n",
      "[0]\tvalidation_0-logloss:0.22938\tvalidation_1-logloss:0.22913\n",
      "[70]\tvalidation_0-logloss:0.13531\tvalidation_1-logloss:0.13619\n",
      "[140]\tvalidation_0-logloss:0.13476\tvalidation_1-logloss:0.13591\n",
      "[204]\tvalidation_0-logloss:0.13448\tvalidation_1-logloss:0.13588\n",
      "0.1358716337986695\n"
     ]
    }
   ],
   "source": [
    "print('training using features: \\n' ,[fts for fts in last_auto_renew_fts if fts not in exclude_list])\n",
    "last_auto_renew_model_xgb, last_auto_renew_val_score_xgb,\\\n",
    "last_auto_renew_pred_xgb = model_training_xgb(df_train[last_auto_renew_fts],df_sub[last_auto_renew_fts])\n",
    "print(last_auto_renew_val_score_xgb)"
   ]
  },
  {
   "cell_type": "markdown",
   "id": "19bdf493-4346-45f9-a632-839272c6de02",
   "metadata": {
    "jp-MarkdownHeadingCollapsed": true
   },
   "source": [
    "### One_month_day_listen"
   ]
  },
  {
   "cell_type": "code",
   "execution_count": 57,
   "id": "d68709af-f230-4a1e-af12-1a6b79b554ec",
   "metadata": {},
   "outputs": [
    {
     "name": "stdout",
     "output_type": "stream",
     "text": [
      "<class 'pandas.core.frame.DataFrame'>\n",
      "RangeIndex: 886500 entries, 0 to 886499\n",
      "Data columns (total 2 columns):\n",
      " #   Column                Non-Null Count   Dtype  \n",
      "---  ------                --------------   -----  \n",
      " 0   msno                  886500 non-null  object \n",
      " 1   one_month_day_listen  678104 non-null  float64\n",
      "dtypes: float64(1), object(1)\n",
      "memory usage: 13.5+ MB\n"
     ]
    }
   ],
   "source": [
    "# 执行 SQL 查询\n",
    "query = \"\"\"\n",
    "-- one_month_day_listen CTE\n",
    "WITH features AS (\n",
    "                   SELECT  msno AS msno , COUNT(msno) AS one_month_day_listen\n",
    "                   FROM certain-arcana-418302.KK_data.tuser_logs_v3\n",
    "                   WHERE date > 20170201 AND date < 20170228 \n",
    "                   GROUP BY msno)\n",
    "SELECT train.msno, features.one_month_day_listen\n",
    "FROM certain-arcana-418302.KK_data.tuser_label_201703 AS train\n",
    "LEFT JOIN features \n",
    "ON   train.msno = features.msno\n",
    "\"\"\"\n",
    "query_job = client.query(query)\n",
    "\n",
    "# 将结果读取到 Pandas DataFrame 中\n",
    "dfom = query_job.to_dataframe()\n",
    "\n",
    "# 打印结果\n",
    "dfom.info()"
   ]
  },
  {
   "cell_type": "code",
   "execution_count": 58,
   "id": "f64d160c-c97d-4e73-8e9b-2254cb36410a",
   "metadata": {},
   "outputs": [
    {
     "name": "stdout",
     "output_type": "stream",
     "text": [
      "<class 'pandas.core.frame.DataFrame'>\n",
      "RangeIndex: 907471 entries, 0 to 907470\n",
      "Data columns (total 2 columns):\n",
      " #   Column                Non-Null Count   Dtype  \n",
      "---  ------                --------------   -----  \n",
      " 0   msno                  907471 non-null  object \n",
      " 1   one_month_day_listen  697354 non-null  float64\n",
      "dtypes: float64(1), object(1)\n",
      "memory usage: 13.8+ MB\n"
     ]
    }
   ],
   "source": [
    "# 执行 SQL 查询\n",
    "query = \"\"\"\n",
    "WITH features AS (\n",
    "                   SELECT  msno AS msno , COUNT(msno) AS one_month_day_listen\n",
    "                   FROM certain-arcana-418302.KK_data.tuser_logs_v3\n",
    "                   WHERE date > 20170301 AND date < 20170331 \n",
    "                   GROUP BY msno)\n",
    "SELECT sub.msno, features.one_month_day_listen\n",
    "FROM certain-arcana-418302.KK_data.tsample_submission_v2 AS sub\n",
    "LEFT JOIN features \n",
    "ON   sub.msno = features.msno \n",
    "\"\"\"\n",
    "query_job = client.query(query)\n",
    "\n",
    "# 将结果读取到 Pandas DataFrame 中\n",
    "dfomt = query_job.to_dataframe()\n",
    "\n",
    "# 打印结果\n",
    "dfomt.info()"
   ]
  },
  {
   "cell_type": "code",
   "execution_count": 59,
   "id": "f3bcd400-a97e-4d08-8c01-eb76570b46b0",
   "metadata": {},
   "outputs": [
    {
     "data": {
      "text/plain": [
       "<matplotlib.legend.Legend at 0x7fa0df295db0>"
      ]
     },
     "execution_count": 59,
     "metadata": {},
     "output_type": "execute_result"
    },
    {
     "data": {
      "image/png": "[encoded data removed]",
      "text/plain": [
       "<Figure size 2000x800 with 1 Axes>"
      ]
     },
     "metadata": {},
     "output_type": "display_data"
    }
   ],
   "source": [
    "# merge\n",
    "df_train = pd.merge(df_train, dfom, how='left',on=['msno'])\n",
    "df_sub = pd.merge(df_sub, dfomt, how='left',on=['msno'])\n",
    "# plot\n",
    "df_train['one_month_day_listen'] = df_train['one_month_day_listen'].fillna(-1)\n",
    "df_sub['one_month_day_listen'] = df_sub['one_month_day_listen'].fillna(-1)\n",
    "fig, ax = plt.subplots( figsize=(20,8) )\n",
    "churn = (df_train['one_month_day_listen'] > 0) & (df_train.is_churn == 1)\n",
    "NOT_churn = (df_train['one_month_day_listen'] > 0) & (df_train.is_churn == 0)\n",
    "bins=25\n",
    "sns.distplot(df_train.loc[churn,'one_month_day_listen'],kde=False,norm_hist=True,label='churn',ax=ax,bins=bins)\n",
    "sns.distplot(df_train.loc[NOT_churn,'one_month_day_listen'],kde=False,norm_hist=True,label='NOT_churn',ax=ax,bins=bins)\n",
    "ax.legend()"
   ]
  },
  {
   "cell_type": "markdown",
   "id": "7814fad3-f900-42c7-988e-208f1240901e",
   "metadata": {},
   "source": [
    "### Testing Model: xgb(0.1337)"
   ]
  },
  {
   "cell_type": "code",
   "execution_count": 60,
   "id": "8f0db01d-1854-4a22-8548-2039c900f753",
   "metadata": {},
   "outputs": [
    {
     "name": "stdout",
     "output_type": "stream",
     "text": [
      "Index(['msno', 'is_churn', 'six_month_day_listen', 'six_month_satis', 'city',\n",
      "       'bd', 'gender', 'registered_via', 'registration_init_time',\n",
      "       'age_under_26', 'last_last_churn', 'trans_times', 'client_level_code',\n",
      "       'last_auto_renew', 'one_month_day_listen'],\n",
      "      dtype='object')\n",
      "Index(['msno', 'is_churn', 'six_month_day_listen', 'six_month_satis', 'city',\n",
      "       'bd', 'gender', 'registered_via', 'registration_init_time',\n",
      "       'age_under_26', 'last_last_churn', 'trans_times', 'client_level_code',\n",
      "       'last_auto_renew', 'one_month_day_listen'],\n",
      "      dtype='object')\n"
     ]
    }
   ],
   "source": [
    "print(df_train.columns)\n",
    "print(df_sub.columns)\n",
    "one_month_day_listen_fts = last_auto_renew_fts + ['one_month_day_listen']\n",
    "exclude_list = ['msno','is_churn']"
   ]
  },
  {
   "cell_type": "code",
   "execution_count": null,
   "id": "b55a4a90-6b07-4eef-a99a-24a44194722a",
   "metadata": {},
   "outputs": [],
   "source": [
    "print('training using features: \\n' ,[fts for fts in one_month_day_listen_fts if fts not in exclude_list])\n",
    "one_month_day_listen_model_xgb, one_month_day_listen_val_score_xgb,\\\n",
    "one_month_day_listen_pred_xgb = model_training_xgb(df_train[one_month_day_listen_fts],df_sub[one_month_day_listen_fts])\n",
    "print(one_month_day_listen_val_score_xgb)"
   ]
  },
  {
   "cell_type": "code",
   "execution_count": 82,
   "id": "003465f4-e614-4d1d-b76c-a9af9b5efe47",
   "metadata": {},
   "outputs": [],
   "source": [
    "one_month_day_listen_pred_xgb.to_csv(\"gs://edward1325811540-bucket1/tsample_submission_v2.csv\", index=False)"
   ]
  },
  {
   "cell_type": "markdown",
   "id": "d6f65407-c4dd-4691-913c-92dc442f000b",
   "metadata": {},
   "source": [
    "### Remove_msno"
   ]
  },
  {
   "cell_type": "code",
   "execution_count": 81,
   "id": "d5a9b77a-1301-4e79-a253-16f0399565a9",
   "metadata": {},
   "outputs": [],
   "source": [
    "def remove_msno_model_training_xgb(training_data,testing_data):\n",
    "  # splits train and validation set\n",
    "  X = training_data.drop(labels=['is_churn'],axis=1)\n",
    "  Y = training_data['is_churn']\n",
    "  X_train, X_val, Y_train, Y_val = train_test_split(X, Y, test_size=0.2,random_state = 2)\n",
    "  # model\n",
    "  xgb_watchlist = [(X_train, Y_train), (X_val, Y_val)]\n",
    "  model = xgb.XGBClassifier(learning_rate=0.08, max_depth=4,n_estimators=200,\\\n",
    "                 subsample=0.5, seed=2,missing=-1)\n",
    "  model.fit(X_train, Y_train,eval_set=xgb_watchlist,eval_metric='logloss',\n",
    "            early_stopping_rounds=20,verbose=70)\n",
    "  # caculating E_val\n",
    "\n",
    "  model_probs = model.predict_proba(X_val)\n",
    "    # [:,1] to show the prob to is_churn = 1\n",
    "  model_val_score = log_loss(Y_val,model_probs[:,1])\n",
    "  \n",
    "  # predict on testing set\n",
    "  model_pred_testing_set = model.predict_proba(testing_data.drop(labels=['msno','is_churn'],axis=1))\n",
    "  model_pred_testing_set = model_pred_testing_set[:,1] # take out the prob if is_churn = 1\n",
    "  submission = pd.DataFrame({\"msno\": testing_data.msno})\n",
    "  submission.insert(1,column='is_churn',value=model_pred_testing_set)\n",
    "  \n",
    "  return model, model_val_score, submission"
   ]
  },
  {
   "cell_type": "code",
   "execution_count": 73,
   "id": "670cef3e-6de4-4b6a-be29-0d35d0ac8da3",
   "metadata": {},
   "outputs": [],
   "source": [
    "remove_msno_fts = [ 'is_churn',\n",
    " 'six_month_day_listen',\n",
    " 'six_month_satis',\n",
    " 'registered_via',\n",
    " 'age_under_26',\n",
    " 'last_last_churn',\n",
    " 'client_level_code',\n",
    " 'last_auto_renew',\n",
    " 'one_month_day_listen']"
   ]
  },
  {
   "cell_type": "code",
   "execution_count": 82,
   "id": "ba0589ff-7582-46e1-83ab-27b61884fb76",
   "metadata": {},
   "outputs": [
    {
     "name": "stdout",
     "output_type": "stream",
     "text": [
      "[0]\tvalidation_0-logloss:0.22904\tvalidation_1-logloss:0.22874\n",
      "[70]\tvalidation_0-logloss:0.13325\tvalidation_1-logloss:0.13419\n",
      "[140]\tvalidation_0-logloss:0.13260\tvalidation_1-logloss:0.13386\n",
      "[199]\tvalidation_0-logloss:0.13226\tvalidation_1-logloss:0.13379\n",
      "0.1337815847831527\n"
     ]
    }
   ],
   "source": [
    "remove_msno_fts_model_xgb, remove_msno_fts_val_score_xgb,\\\n",
    "remove_msno_fts_pred_xgb = remove_msno_model_training_xgb(df_train[remove_msno_fts],df_sub[one_month_day_listen_fts])\n",
    "print(remove_msno_fts_val_score_xgb)"
   ]
  },
  {
   "cell_type": "markdown",
   "id": "51a75b25-5e6c-46be-81b9-64521a18b03b",
   "metadata": {},
   "source": [
    "### BayesSearchCV"
   ]
  },
  {
   "cell_type": "code",
   "execution_count": 83,
   "id": "023c500c-d4f2-4f94-b676-61838b06b85a",
   "metadata": {},
   "outputs": [],
   "source": [
    "X = df_train[remove_msno_fts]\n",
    "X = X.drop('is_churn', axis = 1)\n",
    "y = df_train[one_month_day_listen_fts]['is_churn']"
   ]
  },
  {
   "cell_type": "code",
   "execution_count": 84,
   "id": "ff92e783-d12e-419d-afed-912809ffc03b",
   "metadata": {},
   "outputs": [
    {
     "data": {
      "text/html": [
       "<div>\n",
       "<style scoped>\n",
       "    .dataframe tbody tr th:only-of-type {\n",
       "        vertical-align: middle;\n",
       "    }\n",
       "\n",
       "    .dataframe tbody tr th {\n",
       "        vertical-align: top;\n",
       "    }\n",
       "\n",
       "    .dataframe thead th {\n",
       "        text-align: right;\n",
       "    }\n",
       "</style>\n",
       "<table border=\"1\" class=\"dataframe\">\n",
       "  <thead>\n",
       "    <tr style=\"text-align: right;\">\n",
       "      <th></th>\n",
       "      <th>six_month_day_listen</th>\n",
       "      <th>six_month_satis</th>\n",
       "      <th>registered_via</th>\n",
       "      <th>age_under_26</th>\n",
       "      <th>last_last_churn</th>\n",
       "      <th>client_level_code</th>\n",
       "      <th>last_auto_renew</th>\n",
       "      <th>one_month_day_listen</th>\n",
       "    </tr>\n",
       "  </thead>\n",
       "  <tbody>\n",
       "    <tr>\n",
       "      <th>0</th>\n",
       "      <td>33.000</td>\n",
       "      <td>0.559</td>\n",
       "      <td>3.000</td>\n",
       "      <td>1</td>\n",
       "      <td>0.000</td>\n",
       "      <td>2</td>\n",
       "      <td>1</td>\n",
       "      <td>14.000</td>\n",
       "    </tr>\n",
       "    <tr>\n",
       "      <th>1</th>\n",
       "      <td>46.000</td>\n",
       "      <td>0.361</td>\n",
       "      <td>9.000</td>\n",
       "      <td>1</td>\n",
       "      <td>0.000</td>\n",
       "      <td>4</td>\n",
       "      <td>0</td>\n",
       "      <td>7.000</td>\n",
       "    </tr>\n",
       "    <tr>\n",
       "      <th>2</th>\n",
       "      <td>28.000</td>\n",
       "      <td>0.853</td>\n",
       "      <td>9.000</td>\n",
       "      <td>0</td>\n",
       "      <td>0.000</td>\n",
       "      <td>3</td>\n",
       "      <td>1</td>\n",
       "      <td>-1.000</td>\n",
       "    </tr>\n",
       "    <tr>\n",
       "      <th>3</th>\n",
       "      <td>71.000</td>\n",
       "      <td>0.707</td>\n",
       "      <td>3.000</td>\n",
       "      <td>-1</td>\n",
       "      <td>0.000</td>\n",
       "      <td>1</td>\n",
       "      <td>0</td>\n",
       "      <td>18.000</td>\n",
       "    </tr>\n",
       "    <tr>\n",
       "      <th>4</th>\n",
       "      <td>106.000</td>\n",
       "      <td>0.716</td>\n",
       "      <td>7.000</td>\n",
       "      <td>-1</td>\n",
       "      <td>0.000</td>\n",
       "      <td>2</td>\n",
       "      <td>1</td>\n",
       "      <td>14.000</td>\n",
       "    </tr>\n",
       "  </tbody>\n",
       "</table>\n",
       "</div>"
      ],
      "text/plain": [
       "   six_month_day_listen  six_month_satis  registered_via  age_under_26  \\\n",
       "0                33.000            0.559           3.000             1   \n",
       "1                46.000            0.361           9.000             1   \n",
       "2                28.000            0.853           9.000             0   \n",
       "3                71.000            0.707           3.000            -1   \n",
       "4               106.000            0.716           7.000            -1   \n",
       "\n",
       "   last_last_churn  client_level_code  last_auto_renew  one_month_day_listen  \n",
       "0            0.000                  2                1                14.000  \n",
       "1            0.000                  4                0                 7.000  \n",
       "2            0.000                  3                1                -1.000  \n",
       "3            0.000                  1                0                18.000  \n",
       "4            0.000                  2                1                14.000  "
      ]
     },
     "execution_count": 84,
     "metadata": {},
     "output_type": "execute_result"
    }
   ],
   "source": [
    "X.head()"
   ]
  },
  {
   "cell_type": "code",
   "execution_count": 68,
   "id": "e98c9c25-10d0-435d-ac32-173423785cfc",
   "metadata": {},
   "outputs": [
    {
     "name": "stdout",
     "output_type": "stream",
     "text": [
      "Requirement already satisfied: scikit-optimize in /opt/conda/lib/python3.10/site-packages (0.10.1)\n",
      "Requirement already satisfied: joblib>=0.11 in /opt/conda/lib/python3.10/site-packages (from scikit-optimize) (1.3.2)\n",
      "Requirement already satisfied: pyaml>=16.9 in /opt/conda/lib/python3.10/site-packages (from scikit-optimize) (23.12.0)\n",
      "Requirement already satisfied: numpy>=1.20.3 in /opt/conda/lib/python3.10/site-packages (from scikit-optimize) (1.26.4)\n",
      "Requirement already satisfied: scipy>=1.1.0 in /opt/conda/lib/python3.10/site-packages (from scikit-optimize) (1.11.4)\n",
      "Requirement already satisfied: scikit-learn>=1.0.0 in /opt/conda/lib/python3.10/site-packages (from scikit-optimize) (1.2.2)\n",
      "Requirement already satisfied: packaging>=21.3 in /opt/conda/lib/python3.10/site-packages (from scikit-optimize) (21.3)\n",
      "Requirement already satisfied: pyparsing!=3.0.5,>=2.0.2 in /opt/conda/lib/python3.10/site-packages (from packaging>=21.3->scikit-optimize) (3.1.1)\n",
      "Requirement already satisfied: PyYAML in /opt/conda/lib/python3.10/site-packages (from pyaml>=16.9->scikit-optimize) (6.0.1)\n",
      "Requirement already satisfied: threadpoolctl>=2.0.0 in /opt/conda/lib/python3.10/site-packages (from scikit-learn>=1.0.0->scikit-optimize) (3.2.0)\n"
     ]
    }
   ],
   "source": [
    "!pip install scikit-optimize"
   ]
  },
  {
   "cell_type": "code",
   "execution_count": null,
   "id": "418a0fd1-09d2-4af1-9fc1-a7db90b9c316",
   "metadata": {},
   "outputs": [],
   "source": [
    "from skopt import BayesSearchCV\n",
    "# 定義超參數搜索空間\n",
    "param_Bayes = {\n",
    "    'n_estimators': (10, 400),              # 決策樹的個數\n",
    "    'max_depth': (1, 100),                   # 樹的最大深度\n",
    "    'min_samples_split': (2, 10),            # 內部節點再劃分所需的最小樣本數\n",
    "    'min_samples_leaf': (1, 10),             # 葉子節點最小樣本數\n",
    "    'bootstrap': [True, False],\n",
    "    'max_features': ['sqrt', 'auto', 'log2'],\n",
    "}\n",
    "\n",
    "# 建立隨機森林分類器\n",
    "rf = RandomForestClassifier()\n",
    "\n",
    "# 使用貝葉斯搜索交叉驗證進行超參數調整\n",
    "Bayes_search = BayesSearchCV(rf, param_Bayes, cv=5, n_iter=20, n_jobs=-1)\n",
    "Bayes_search.fit(X, y)\n",
    "\n",
    "model = Bayes_search\n",
    "parameters = Bayes_search.best_params_\n",
    "\n",
    "print('Best score: {}'.format(Bayes_search.best_score_))\n",
    "print('Best parameters: {}'.format(Bayes_search.best_params_))"
   ]
  },
  {
   "cell_type": "code",
   "execution_count": null,
   "id": "4b834840-3ddc-4650-b80f-1ba3e0fb79d3",
   "metadata": {},
   "outputs": [],
   "source": [
    "def model_training_rf(training_data,testing_data):\n",
    "  # splits train and validation set\n",
    "  X = training_data.drop(labels=['msno','is_churn'],axis=1)\n",
    "  Y = training_data['is_churn']\n",
    "  X_train, X_val, Y_train, Y_val = train_test_split(X, Y, test_size=0.2,random_state = 2)\n",
    "  # Training ~ 01:45s\n",
    "  model = RandomForestClassifier(random_state=2,n_estimators=300,\n",
    "                           min_samples_split=0.05,n_jobs=-1,class_weight={0 :0.45,1 :0.55})\n",
    "  model.fit(X_train,Y_train)\n",
    "  \n",
    "  # caculating E_val\n",
    "\n",
    "  model_probs = model.predict_proba(X_val)\n",
    "    # [:,1] to show the prob to is_churn = 1\n",
    "  model_val_score = log_loss(Y_val,model_probs[:,1])\n",
    "  \n",
    "  # predict on testing set\n",
    "  model_pred_testing_set = model.predict_proba(testing_data.drop(labels=['msno','is_churn'],axis=1))\n",
    "  model_pred_testing_set = model_pred_testing_set[:,1] # take out the prob if is_churn = 1\n",
    "  submission = pd.DataFrame({\"msno\": testing_data.msno})\n",
    "  submission.insert(1,column='is_churn',value=model_pred_testing_set)\n",
    "  \n",
    "  return model, model_val_score, submission"
   ]
  },
  {
   "cell_type": "code",
   "execution_count": null,
   "id": "f7875946-1c27-4e0b-8686-4cf299abb94e",
   "metadata": {},
   "outputs": [],
   "source": [
    "def model_training_xgb(training_data,testing_data):\n",
    "  # splits train and validation set\n",
    "  X = training_data.drop(labels=['msno','is_churn'],axis=1)\n",
    "  Y = training_data['is_churn']\n",
    "  X_train, X_val, Y_train, Y_val = train_test_split(X, Y, test_size=0.2,random_state = 2)\n",
    "  # model\n",
    "  xgb_watchlist = [(X_train, Y_train), (X_val, Y_val)]\n",
    "  model = xgb.XGBClassifier(learning_rate=0.08, max_depth=4,n_estimators=300,\\\n",
    "                 subsample=0.5, seed=2,missing=-1)\n",
    "  model.fit(X_train, Y_train,eval_set=xgb_watchlist,eval_metric='logloss',\n",
    "            early_stopping_rounds=20,verbose=70)\n",
    "  # caculating E_val\n",
    "\n",
    "  model_probs = model.predict_proba(X_val)\n",
    "    # [:,1] to show the prob to is_churn = 1\n",
    "  model_val_score = log_loss(Y_val,model_probs[:,1])\n",
    "  \n",
    "  # predict on testing set\n",
    "  model_pred_testing_set = model.predict_proba(testing_data.drop(labels=['msno','is_churn'],axis=1))\n",
    "  model_pred_testing_set = model_pred_testing_set[:,1] # take out the prob if is_churn = 1\n",
    "  submission = pd.DataFrame({\"msno\": testing_data.msno})\n",
    "  submission.insert(1,column='is_churn',value=model_pred_testing_set)\n",
    "  \n",
    "  return model, model_val_score, submission"
   ]
  }
 ],
 "metadata": {
  "environment": {
   "kernel": "python3",
   "name": ".m119",
   "type": "gcloud",
   "uri": "us-docker.pkg.dev/deeplearning-platform-release/gcr.io/:m119"
  },
  "kernelspec": {
   "display_name": "Python 3 (ipykernel)",
   "language": "python",
   "name": "python3"
  },
  "language_info": {
   "codemirror_mode": {
    "name": "ipython",
    "version": 3
   },
   "file_extension": ".py",
   "mimetype": "text/x-python",
   "name": "python",
   "nbconvert_exporter": "python",
   "pygments_lexer": "ipython3",
   "version": "3.10.13"
  }
 },
 "nbformat": 4,
 "nbformat_minor": 5
}
